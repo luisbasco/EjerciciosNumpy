{
 "cells": [
  {
   "cell_type": "code",
   "execution_count": 1,
   "metadata": {},
   "outputs": [
    {
     "name": "stdout",
     "output_type": "stream",
     "text": [
      "[[ 10   7 300  25  40]\n",
      " [ 15  10 250  30  50]\n",
      " [  5  12 280  20  35]\n",
      " [  8   6 310  15  38]\n",
      " [ 12   9 270  28  45]] \n",
      "\n",
      "Esto es la L2: \n",
      " [[382]\n",
      " [355]\n",
      " [352]\n",
      " [377]\n",
      " [364]]\n",
      "[[  50   44 1410  118  208]]\n"
     ]
    }
   ],
   "source": [
    "import numpy as np\n",
    "\n",
    "jugador = np.array([\n",
    "    [10, 7, 300, 25, 40],\n",
    "    [15, 10, 250, 30, 50],\n",
    "    [5, 12, 280, 20, 35],\n",
    "    [8, 6, 310, 15, 38],\n",
    "    [12, 9, 270, 28, 45]])\n",
    "\n",
    "print(jugador,\"\\n\")\n",
    "\n",
    "norma_L2_jugadores = np.sum(jugador, axis=1, keepdims=True)\n",
    "print(\"Esto es la L2: \\n\",norma_L2_jugadores)\n",
    "\n",
    "\n",
    "normaL2_jugadores = np.sum(jugador, axis=0, keepdims=True)\n",
    "print(normaL2_jugadores)"
   ]
  }
 ],
 "metadata": {
  "kernelspec": {
   "display_name": ".venv",
   "language": "python",
   "name": "python3"
  },
  "language_info": {
   "codemirror_mode": {
    "name": "ipython",
    "version": 3
   },
   "file_extension": ".py",
   "mimetype": "text/x-python",
   "name": "python",
   "nbconvert_exporter": "python",
   "pygments_lexer": "ipython3",
   "version": "3.10.0"
  }
 },
 "nbformat": 4,
 "nbformat_minor": 2
}
