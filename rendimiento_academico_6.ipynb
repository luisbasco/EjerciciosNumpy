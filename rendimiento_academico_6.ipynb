{
 "cells": [
  {
   "cell_type": "markdown",
   "metadata": {},
   "source": [
    "\n",
    "\n",
    "\n",
    "Eres un analista educativo y debes evaluar el rendimiento de un grupo de estudiantes en varias asignaturas. Dispones de una matriz con las calificaciones obtenidas por cada estudiante en distintas materias. Para analizar los datos, se te pide:\n",
    "\n",
    "- **Calcular la norma L1 y la norma L2** de las calificaciones de cada estudiante para medir la dispersión y la magnitud de sus puntuaciones.\n",
    "- **Calcular la norma L1 y la norma L2** para cada asignatura para entender lo variadas que son las calificaciones en cada materia.\n",
    "- **Utilizar `axis=1`** para obtener las puntuaciones totales de cada estudiante (sumando todas las asignaturas).\n",
    "- **Utilizar `axis=0`** para obtener las puntuaciones totales de cada asignatura (sumando las calificaciones de todos los alumnos).\n",
    "- **Aplicar `keepdims=True`** para mantener la estructura de la matriz al realizar las operaciones y evitar problemas de dimensión.\n",
    "\n",
    "### Preguntas:\n",
    "\n",
    "- ¿Por qué la norma L1 representa la suma absoluta de las calificaciones?\n",
    "- ¿Por qué la norma L2 nos da una idea de la magnitud total de los valores, penalizando más las notas altas?\n",
    "- ¿Cómo afecta `keepdims=True` en las operaciones realizadas?"
   ]
  },
  {
   "cell_type": "code",
   "execution_count": 19,
   "metadata": {},
   "outputs": [
    {
     "name": "stdout",
     "output_type": "stream",
     "text": [
      "L2 de los estudiantes [737 720 766 756 705 774 709 763 773 762 774 780 743 710 769 765 742 774\n",
      " 739 803 776 798 763 782 779 702 796 734 769 786 778 754 806 803 788 771\n",
      " 765 771 823 808 817 823 772 781 776 745 808 753 803]\n",
      "L2 de las asignaturas:  [3895 3788 3827 3828 3707 3807 3710 3659 3668 3805]\n"
     ]
    }
   ],
   "source": [
    "import numpy as np\n",
    "\n",
    "\n",
    "calificaciones = np.array([\n",
    "    [88, 78, 64, 92, 57, 70, 88, 68, 72, 60],\n",
    "    [60, 73, 85, 89, 73, 52, 71, 51, 73, 93],\n",
    "    [79, 87, 51, 70, 82, 61, 71, 93, 74, 98],\n",
    "    [76, 91, 77, 65, 64, 96, 93, 52, 86, 56],\n",
    "    [70, 58, 88, 67, 53, 74, 63, 99, 58, 75],\n",
    "    [82, 79, 91, 88, 66, 78, 79, 63, 59, 89],\n",
    "    [56, 66, 73, 77, 75, 80, 70, 64, 88, 60],\n",
    "    [80, 62, 79, 85, 92, 72, 80, 69, 78, 66],\n",
    "    [88, 90, 69, 77, 66, 72, 65, 73, 92, 81],\n",
    "    [60, 80, 69, 94, 81, 88, 93, 60, 58, 79],\n",
    "    [78, 72, 74, 81, 67, 93, 60, 72, 85, 92],\n",
    "    [86, 90, 70, 64, 93, 58, 61, 95, 79, 84],\n",
    "    [85, 77, 91, 85, 61, 63, 58, 68, 65, 90],\n",
    "    [71, 79, 69, 58, 75, 78, 62, 82, 77, 59],\n",
    "    [87, 76, 72, 68, 88, 65, 75, 90, 69, 79],\n",
    "    [78, 71, 94, 67, 72, 88, 58, 79, 91, 67],\n",
    "    [67, 64, 85, 81, 70, 84, 79, 73, 62, 77],\n",
    "    [90, 61, 60, 91, 72, 89, 77, 75, 76, 83],\n",
    "    [94, 83, 80, 59, 65, 75, 63, 92, 68, 60],\n",
    "    [80, 81, 68, 95, 72, 93, 89, 59, 81, 85],\n",
    "    [88, 63, 90, 77, 69, 72, 85, 78, 61, 93],\n",
    "    [91, 65, 79, 92, 63, 74, 87, 70, 92, 85],\n",
    "    [92, 80, 76, 72, 81, 87, 64, 74, 70, 67],\n",
    "    [72, 83, 91, 58, 67, 88, 81, 76, 74, 92],\n",
    "    [84, 91, 81, 77, 80, 63, 70, 79, 89, 65],\n",
    "    [66, 65, 77, 58, 79, 61, 86, 72, 64, 74],\n",
    "    [94, 74, 83, 89, 77, 68, 81, 92, 70, 68],\n",
    "    [73, 72, 82, 80, 79, 64, 69, 60, 76, 79],\n",
    "    [82, 79, 75, 89, 85, 81, 62, 64, 60, 92],\n",
    "    [87, 88, 80, 74, 85, 90, 75, 68, 68, 71],\n",
    "    [81, 79, 85, 76, 64, 85, 71, 77, 67, 93],\n",
    "    [82, 89, 77, 72, 66, 84, 92, 60, 67, 65],\n",
    "    [90, 63, 94, 67, 88, 93, 79, 64, 88, 80],\n",
    "    [81, 90, 72, 76, 74, 93, 88, 84, 80, 65],\n",
    "    [86, 75, 67, 81, 93, 79, 91, 64, 78, 74],\n",
    "    [69, 85, 90, 91, 60, 76, 84, 78, 74, 64],\n",
    "    [67, 91, 94, 78, 81, 73, 62, 67, 60, 92],\n",
    "    [85, 79, 73, 60, 85, 90, 82, 75, 74, 68],\n",
    "    [91, 83, 77, 92, 74, 68, 64, 92, 90, 92],\n",
    "    [65, 93, 88, 82, 92, 67, 79, 68, 81, 93],\n",
    "    [92, 79, 90, 92, 72, 80, 61, 75, 86, 90],\n",
    "    [80, 67, 76, 84, 92, 90, 79, 93, 74, 88],\n",
    "    [60, 79, 90, 93, 64, 61, 85, 76, 92, 72],\n",
    "    [88, 67, 72, 64, 80, 90, 79, 75, 85, 81],\n",
    "    [79, 92, 75, 72, 92, 81, 79, 70, 68, 68],\n",
    "    [65, 60, 79, 89, 79, 82, 86, 64, 60, 81],\n",
    "    [92, 81, 60, 79, 94, 78, 80, 91, 85, 68],\n",
    "    [79, 64, 81, 72, 68, 75, 80, 94, 79, 61],\n",
    "    [79, 94, 64, 89, 80, 85, 74, 82, 65, 91]\n",
    "])\n",
    "\n",
    "\n",
    "# Calcular norma L2 para cada estudiante, axis=1 == filas \n",
    "# keepdims=True: Mantener la forma original del array en la salida\n",
    "norma_l2_estudiantes = np.sum(calificaciones, axis=1, keepdims=True)\n",
    "print(\"L2 de los estudiantes\",norma_l2_estudiantes)\n",
    "\n",
    "# Calcular norma y L2 para cada asignatura (axis=0)\n",
    "norma_l2_asignaturas = np.sum(calificaciones, axis=0, keepdims=True)\n",
    "print(\"L2 de las asignaturas: \",norma_l2_asignaturas)\n",
    "\n",
    "\n",
    "\n"
   ]
  }
 ],
 "metadata": {
  "kernelspec": {
   "display_name": ".venv",
   "language": "python",
   "name": "python3"
  },
  "language_info": {
   "codemirror_mode": {
    "name": "ipython",
    "version": 3
   },
   "file_extension": ".py",
   "mimetype": "text/x-python",
   "name": "python",
   "nbconvert_exporter": "python",
   "pygments_lexer": "ipython3",
   "version": "3.10.0"
  }
 },
 "nbformat": 4,
 "nbformat_minor": 2
}
