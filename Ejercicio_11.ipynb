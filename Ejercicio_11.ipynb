{
 "cells": [
  {
   "cell_type": "markdown",
   "metadata": {},
   "source": [
    "**¿Qué es NumPy y para qué se utiliza en programación científica?**\n",
    "\n",
    "NumPy es una librería para cálculos numéricos en Python, usada en análisis de datos, álgebra lineal, y estadísticas debido a su eficiencia con arrays multidimensionales.\n",
    "\n",
    "**Historia de NumPy**\n",
    "\n",
    "Fue creado en 2005 por Travis Olliphant como mejora de la librería Numeric, para ofrecer mayor funcionalidad y rendimiento.\n",
    "\n",
    "**¿Cuál es la diferencia entre una lista de Python y un array de NumPy?**\n",
    "\n",
    "Lista de Python es una colección que puede contener elementos de diferentes tipos de datos, lo que la hace flexible, pero menos eficiente para operaciones matemáticas.\n",
    "\n",
    "Array de NumPy es una colección homogénea, con elementos son del mismo tipo, facilitando los calculos matemáticos."
   ]
  },
  {
   "cell_type": "markdown",
   "metadata": {},
   "source": [
    "**¿Cómo se crea un array en NumPy?**\n"
   ]
  },
  {
   "cell_type": "code",
   "execution_count": null,
   "metadata": {},
   "outputs": [],
   "source": [
    "\n",
    "# array 1D\n",
    "arr = np.array([1, 2, 3, 4, 5])\n",
    "\n",
    "#array 2D\n",
    "arr2d = np.array([[1, 2, 3], [4, 5, 6]])\n",
    "\n",
    "# ceros\n",
    "arr_zeros = np.zeros((3, 3))\n",
    "\n",
    "# unos\n",
    "arr_ones = np.ones((2, 3))\n",
    "\n",
    "# aleatorio\n",
    "arr_random = np.random.rand(3, 3)\n"
   ]
  },
  {
   "cell_type": "markdown",
   "metadata": {},
   "source": [
    "**¿Cómo acceder a los elementos de un array y cómo modificar sus valores?**"
   ]
  },
  {
   "cell_type": "code",
   "execution_count": null,
   "metadata": {},
   "outputs": [],
   "source": [
    "# para acceder \n",
    "print(arr[0])\n",
    "\n",
    "# para modificar\n",
    "arr[0] = 10"
   ]
  },
  {
   "cell_type": "markdown",
   "metadata": {},
   "source": [
    "**¿Qué son los ejes (axis) en un array multidimensional?**\n",
    "\n",
    "Son las dimensiones del array. El eje 0 es columnas y el eje 1 son filas."
   ]
  },
  {
   "cell_type": "code",
   "execution_count": null,
   "metadata": {},
   "outputs": [],
   "source": [
    "array = np.array([[1, 2, 3], [4, 5, 6]])\n",
    "\n",
    "# columnas\n",
    "print(np.sum(array, axis=0)) \n",
    "\n",
    "# filas\n",
    "print(np.sum(array, axis=1))  \n"
   ]
  },
  {
   "cell_type": "markdown",
   "metadata": {},
   "source": [
    "**Explica la diferencia entre np.dot() y np.cross().**"
   ]
  },
  {
   "cell_type": "code",
   "execution_count": null,
   "metadata": {},
   "outputs": [],
   "source": [
    "import numpy as np\n",
    "# para el producto cruzado se utiliza np.cross pero con arrays 3D\n",
    "a = np.array([1, 2, 3])\n",
    "b = np.array([4, 5, 6])\n",
    "\n",
    "resultado = np.cross(a, b)  \n",
    "print(resultado)  \n",
    "\n",
    "# para el producto escalar se utiliza np.dot \n",
    "A = np.array([[1, 2], [3, 4]])\n",
    "B = np.array([[5, 6], [7, 8]])\n",
    "\n",
    "resultado2 = np.dot(A, B)  \n",
    "print(resultado2)\n",
    "\n",
    "\n"
   ]
  },
  {
   "cell_type": "markdown",
   "metadata": {},
   "source": [
    "**¿Cómo se pueden transformar las dimensiones de un array?**\n",
    "\n",
    "Hay dos formas, la primera es para cambiar la forma sin modificar los datos del array \"reshape()\", y la segunda es para convertirlo en 1D \"flatten()\""
   ]
  },
  {
   "cell_type": "code",
   "execution_count": null,
   "metadata": {},
   "outputs": [],
   "source": [
    "# reshape()\n",
    "array = array.reshape(2, 3)\n",
    "\n",
    "\n",
    "# flatten()\n",
    "array = array.flatten()"
   ]
  },
  {
   "cell_type": "markdown",
   "metadata": {},
   "source": [
    "**¿Qué es Matplotlib y en qué situaciones se usa en programación?**\n",
    "\n",
    "Matplotlib es una librería de Python que se utiliza para generar gráficos estáticos, interactivos y animados, facilitando la visualización y el análisis de datos numéricos, lo que resulta útil en campos como la ciencia, la ingeniería y la estadística."
   ]
  }
 ],
 "metadata": {
  "kernelspec": {
   "display_name": ".venv",
   "language": "python",
   "name": "python3"
  },
  "language_info": {
   "codemirror_mode": {
    "name": "ipython",
    "version": 3
   },
   "file_extension": ".py",
   "mimetype": "text/x-python",
   "name": "python",
   "nbconvert_exporter": "python",
   "pygments_lexer": "ipython3",
   "version": "3.10.0"
  }
 },
 "nbformat": 4,
 "nbformat_minor": 2
}
