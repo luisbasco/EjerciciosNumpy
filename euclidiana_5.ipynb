{
 "cells": [
  {
   "cell_type": "markdown",
   "metadata": {},
   "source": [
    "Calcular la distancia euclidiana entre dos puntos en un espacio de 5 dimensiones.\n",
    "\n",
    "### Tareas:\n",
    "\n",
    "- Crea dos puntos en un espacio de 5 dimensiones como arrays de NumPy. Los puntos serán:\n",
    "    - **Punto 1**: (2,3,5,7,11)\n",
    "        \n",
    "        (2,3,5,7,11)\n",
    "        \n",
    "    - **Punto 2**: (1,4,6,8,10)\n",
    "        \n",
    "        (1,4,6,8,10)\n",
    "        \n",
    "- Utiliza la función `np.linalg.norm()` para calcular la distancia entre estos dos puntos en 5 dimensiones.\n",
    "- Imprime el resultado de la distancia."
   ]
  },
  {
   "cell_type": "code",
   "execution_count": 2,
   "metadata": {},
   "outputs": [
    {
     "name": "stdout",
     "output_type": "stream",
     "text": [
      "Distancia euclidiana: 2.24\n"
     ]
    }
   ],
   "source": [
    "import numpy as np\n",
    "\n",
    "v1 = np.array([2,3,5,7,11])\n",
    "v2 = np.array([1,4,6,8,10])\n",
    "\n",
    "dist_euclidiana = np.linalg.norm(v1 - v2)\n",
    "print(f\"Distancia euclidiana entre los dos puntos: {dist_euclidiana:.2f}\")"
   ]
  }
 ],
 "metadata": {
  "kernelspec": {
   "display_name": ".venv",
   "language": "python",
   "name": "python3"
  },
  "language_info": {
   "codemirror_mode": {
    "name": "ipython",
    "version": 3
   },
   "file_extension": ".py",
   "mimetype": "text/x-python",
   "name": "python",
   "nbconvert_exporter": "python",
   "pygments_lexer": "ipython3",
   "version": "3.10.0"
  }
 },
 "nbformat": 4,
 "nbformat_minor": 2
}
