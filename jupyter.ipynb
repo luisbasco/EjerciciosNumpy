{
 "cells": [
  {
   "cell_type": "code",
   "execution_count": 94,
   "metadata": {},
   "outputs": [],
   "source": [
    "# Código en Jupyter Notebook\n",
    "# ====================================\n",
    "# Ejemplo y descripciones en Markdown para las operaciones iniciales de NumPy.\n"
   ]
  },
  {
   "cell_type": "markdown",
   "metadata": {},
   "source": [
    "# 1. Creación de Arrays\n",
    "NumPy permite crear arrays de diferentes dimensiones, formas y tipos de datos. A continuación, veremos cómo crear:\n",
    "- **Un array unidimensional (vector)**: Un array unidimensional es una lista ordenada de valores. Es como una fila de números en una tabla. Todos los elementos están en una sola dimensión (un \"nivel\"). Por ejemplo: una fila de asientos en un cine numerados del 1 al 10. \n",
    "- **Un array bidimensional (matriz)**: Un array bidimensional es una tabla de valores con filas y columnas. Cada elemento se identifica por su posición en la fila y la columna. Es como una hoja de Excel con datos distribuidos en varias celdas.Por ejemplo: una tabla de calificaciones donde cada fila representa un estudiante y cada columna representa una asignatura.\n",
    "- **Un array tridimensional**: Un array tridimensional es un conjunto de matrices apiladas una sobre otra. Es como una colección de tablas bidimensionales que juntas forman un cubo de datos. Por ejemplo: un calendario con 12 páginas (una por mes). Cada página es una tabla con días de la semana y semanas del mes. Cuando juntas las 12 páginas, tienes un conjunto tridimensional.\n",
    "- **Arrays llenos con ceros, unos, valores aleatorios o un rango específico**:  \n",
    "  NumPy puede crear arrays predefinidos de diferentes tipos, como:  \n",
    "  - **Ceros**: Una matriz en la que todos los elementos son `0`. Útil como base para cálculos. Ejemplo: inicializar las puntuaciones de los jugadores de un juego. \n",
    "  - **Unos**: Similar a la matriz de ceros, pero llena de `1`. Ejemplo: estás desarrollando un modelo de red neuronal y necesitas un vector de pesos iniciales.\n",
    "  - **Valores aleatorios**: Una matriz con números generados al azar. Útil para simulaciones.  \n",
    "  - **Rango específico**: Una secuencia de números con un intervalo definido.  \n",
    "  - **Array de números aleatorios**: np.random.random() genera un array de números flotantes aleatorios entre 0 y\n",
    "  - **Array de números aleatorios con np.random.rand()**: np.random.rand() también genera números aleatorios, pero es más sencillo de usar cuando se especifica el tamaño directamente.\n",
    "  - **Array de números aleatorios enteros**: np.random.randint() genera números enteros aleatorios dentro de un rango específico.\n",
    "  - **Array vacío**: np.empty() crea un array sin inicializar, lo que significa que los valores en el array no están definidos hasta que se les asignen.\n",
    "  - **Array con valores espaciados**: np.linspace() genera un array con un número específico de puntos espaciados uniformemente entre dos valores.\n",
    "\n"
   ]
  },
  {
   "cell_type": "code",
   "execution_count": 95,
   "metadata": {},
   "outputs": [
    {
     "name": "stdout",
     "output_type": "stream",
     "text": [
      "Array unidimensional: [1 2 3 4 5]\n",
      "Array bidimensional:\n",
      " [[1 2 3]\n",
      " [4 5 6]]\n",
      "Array tridimensional:\n",
      " [[[1 2]\n",
      "  [3 4]]\n",
      "\n",
      " [[5 6]\n",
      "  [7 8]]]\n",
      "Rango array: [0 1 2 3 4]\n",
      "Rango específico array: [2 3 4 5 6 7 8 9]\n",
      "Array con paso personalizado: [0 2 4 6 8]\n",
      "Array con paso decimal: [0.  0.2 0.4 0.6 0.8]\n",
      "Array en orden inverso: [10  9  8  7  6  5  4  3  2  1]\n",
      "Array de ceros:\n",
      " [[0. 0. 0.]\n",
      " [0. 0. 0.]]\n",
      "Pesos iniciales:\n",
      " [[1. 1. 1. 1.]\n",
      " [1. 1. 1. 1.]]\n",
      "Array con rango:\n",
      " [0 2 4 6 8]\n",
      "Array de números aleatorios:\n",
      " [[0.62006148 0.06578808]\n",
      " [0.50105953 0.15895405]]\n",
      "[[0.33802465 0.09849638 0.70791272]\n",
      " [0.52923414 0.69788711 0.15679101]]\n",
      "Array de números aleatorios enteros:\n",
      " [[2 9 0]\n",
      " [7 9 8]]\n",
      "[[0.62006148 0.06578808]\n",
      " [0.50105953 0.15895405]]\n",
      "[0.   0.25 0.5  0.75 1.  ]\n"
     ]
    }
   ],
   "source": [
    "import numpy as np\n",
    "\n",
    "# Array unidimensional\n",
    "array_1d = np.array([1, 2, 3, 4, 5])\n",
    "print(\"Array unidimensional:\", array_1d)\n",
    "\n",
    "# Array bidimensional\n",
    "array_2d = np.array([[1, 2, 3], [4, 5, 6]])\n",
    "print(\"Array bidimensional:\\n\", array_2d)\n",
    "\n",
    "# Array tridimensional\n",
    "array_3d = np.array([[[1, 2], [3, 4]], [[5, 6], [7, 8]]])\n",
    "print(\"Array tridimensional:\\n\", array_3d)\n",
    "\n",
    "#np.arrange\n",
    "rango_array = np.arange(5)\n",
    "print(\"Rango array:\", rango_array)\n",
    "print(\"Rango específico array:\", np.arange(2, 10))\n",
    "print(\"Array con paso personalizado:\", np.arange(0, 10, 2))\n",
    "print(\"Array con paso decimal:\", np.arange(0, 1, 0.2))\n",
    "print(\"Array en orden inverso:\", np.arange(10, 0, -1))\n",
    "\n",
    "# Array de ceros\n",
    "zeros = np.zeros((2, 3))\n",
    "print(\"Array de ceros:\\n\", zeros)\n",
    "\n",
    "# Creamos un array 2x4 de unos\n",
    "pesos_iniciales = np.ones((2, 4))\n",
    "print(\"Pesos iniciales:\\n\", pesos_iniciales)\n",
    "\n",
    "# Array con un rango\n",
    "range_array = np.arange(0, 10, 2)\n",
    "print(\"Array con rango:\\n\", range_array)\n",
    "\n",
    "# Array de números aleatorios\n",
    "random_array = np.random.random((2, 2))\n",
    "print(\"Array de números aleatorios:\\n\", random_array)\n",
    "\n",
    "random_array_argumentos = np.random.rand(2, 3)\n",
    "print(random_array_argumentos)\n",
    "\n",
    "# Array de números aleatorios enteros\n",
    "random_int_array = np.random.randint(0, 10, (2, 3)) #np.random.randint(0, 10, size=(2, 3))\n",
    "print(\"Array de números aleatorios enteros:\\n\", random_int_array)\n",
    "\n",
    "# Array vacío\n",
    "empty_arr = np.empty((2, 2)) \n",
    "print(empty_arr)\n",
    "\n",
    "# Array con valores espaciados\n",
    "linspace_arr = np.linspace(0, 1, 5) # Empieza en 0, termina en 1, con 5 puntos en total\n",
    "print(linspace_arr)\n",
    "  "
   ]
  },
  {
   "cell_type": "markdown",
   "metadata": {},
   "source": [
    "# 2. Indexación y Selección\n",
    "Accede a elementos específicos, filas o columnas de un array utilizando índices. NumPy usa índices base 0 y permite seleccionar múltiples elementos mediante slices o índices específicos.\n",
    "\n",
    "Esto es muy útil para manipular y analizar datos en IA, donde los arrays bidimensionales pueden representar cosas como:\n",
    "\n",
    "- Imágenes (donde cada número es un píxel).\n",
    "- Tablas de datos (cada fila es un ejemplo y cada columna, una característica).\n",
    "- Redes neuronales (matrices de pesos y activaciones).\n"
   ]
  },
  {
   "cell_type": "code",
   "execution_count": 96,
   "metadata": {},
   "outputs": [
    {
     "name": "stdout",
     "output_type": "stream",
     "text": [
      "1\n",
      "5\n",
      "1\n",
      "6\n",
      "9\n",
      "[1 2 3]\n",
      "[2 5 8]\n"
     ]
    }
   ],
   "source": [
    "# Crear un array 1D\n",
    "arr_1d = np.array([1, 2, 3, 4, 5])\n",
    "\n",
    "# Indexación en un array 1D \n",
    "print(arr_1d[0]) # Primer elemento\n",
    "print(arr_1d[-1]) # Último elemento\n",
    "\n",
    "# Crear un array 2D (matriz)\n",
    "arr_2d = np.array([[1, 2, 3], \n",
    "                   [4, 5, 6],\n",
    "                   [7, 8, 9]])\n",
    "\n",
    "# Indexación en un array 2D\n",
    "print(arr_2d[0, 0]) # Primer elemento de la primera fila \n",
    "print(arr_2d[1, 2]) # Tercer elemento de la segunda fila \n",
    "print(arr_2d[-1, -1]) # Último elemento de la última fila\n",
    "\n",
    "# Selección de filas y columnas en un array 2D \n",
    "print(arr_2d[0, :]) # Primera fila \n",
    "print(arr_2d[:, 1]) # Segunda columna\n"
   ]
  },
  {
   "cell_type": "markdown",
   "metadata": {},
   "source": [
    "# 3. Slicing\n",
    "Extrae subarrays o segmentos de un array utilizando rangos. Puedes definir el inicio, fin y el paso de los índices.\n",
    "\n",
    "**np.arange** es una función de NumPy que crea un array unidimensional con una secuencia de números. Funciona como **range** en Python, pero devuelve un array en lugar de una lista.\n",
    "\n",
    "Un slice es una forma de seleccionar una parte del array. En NumPy, lo hacemos con la sintaxis array[inicio:fin:paso]:\n",
    "- Inicio: Índice donde empezar (por defecto, 0).\n",
    "- Fin: Índice donde detenerse (sin incluirlo).\n",
    "- Paso: Cuántos elementos saltar (por defecto, 1).\n"
   ]
  },
  {
   "cell_type": "code",
   "execution_count": 97,
   "metadata": {},
   "outputs": [
    {
     "name": "stdout",
     "output_type": "stream",
     "text": [
      "Slice [2:6]: [2 3 4 5]\n",
      "Slice [::2]: [0 2 4 6 8]\n",
      "Slice de las primeras dos filas y dos columnas:\n",
      " [[1 2]\n",
      " [4 5]]\n",
      "Array 3D completo:\n",
      " [[[ 1  2  3]\n",
      "  [ 4  5  6]\n",
      "  [ 7  8  9]]\n",
      "\n",
      " [[10 11 12]\n",
      "  [13 14 15]\n",
      "  [16 17 18]]\n",
      "\n",
      " [[19 20 21]\n",
      "  [22 23 24]\n",
      "  [25 26 27]]]\n",
      "\n",
      "Primer bloque:\n",
      " [[1 2 3]\n",
      " [4 5 6]\n",
      " [7 8 9]]\n",
      "\n",
      "Primera fila de cada bloque:\n",
      " [[ 1  2  3]\n",
      " [10 11 12]\n",
      " [19 20 21]]\n",
      "\n",
      "Primera columna de cada bloque:\n",
      " [[ 1  4  7]\n",
      " [10 13 16]\n",
      " [19 22 25]]\n",
      "\n",
      "Elemento en (2, 1, 2): 24\n"
     ]
    }
   ],
   "source": [
    "# Array unidimensional\n",
    "array = np.arange(10)  # [0, 1, 2, 3, 4, 5, 6, 7, 8, 9]\n",
    "\n",
    "# Slice del índice 2 al 5\n",
    "print(\"Slice [2:6]:\", array[2:6])  # [2, 3, 4, 5]\n",
    "\n",
    "# Slice con un paso de 2\n",
    "print(\"Slice [::2]:\", array[::2])  # \"Empieza en el principio, llega hasta el final, y salta de 2 en 2\" -> [0, 2, 4, 6, 8]\n",
    "\n",
    "# Slice en arrays bidimensionales\n",
    "array_2d = np.array([[1, 2, 3], [4, 5, 6], [7, 8, 9]])\n",
    "print(\"Slice de las primeras dos filas y dos columnas:\\n\", array_2d[:2, :2])\n",
    "\n",
    "# Slicing en un array tridimensional\n",
    "array_3d = np.array([\n",
    "    [[1, 2, 3], [4, 5, 6], [7, 8, 9]],  # Primer bloque (dimensión 0)\n",
    "    [[10, 11, 12], [13, 14, 15], [16, 17, 18]],  # Segundo bloque (dimensión 1)\n",
    "    [[19, 20, 21], [22, 23, 24], [25, 26, 27]]  # Tercer bloque (dimensión 2)\n",
    "])\n",
    "\n",
    "# Mostrar el array tridimensional completo\n",
    "print(\"Array 3D completo:\\n\", array_3d)\n",
    "\n",
    "# Slice: Seleccionar todo el primer bloque (dimensión 0)\n",
    "print(\"\\nPrimer bloque:\\n\", array_3d[0])\n",
    "\n",
    "# Slice: Seleccionar la primera fila de cada bloque\n",
    "print(\"\\nPrimera fila de cada bloque:\\n\", array_3d[:, 0, :]) #: selecciona todos los bloques, 0 selecciona la primera fila de cada bloque, : selecciona todas las columnas.\n",
    "\n",
    "# Slice: Seleccionar la primera columna de cada bloque\n",
    "print(\"\\nPrimera columna de cada bloque:\\n\", array_3d[:, :, 0])\n",
    "\n",
    "# Slice: Seleccionar un elemento específico (bloque 2, fila 1, columna 2)\n",
    "print(\"\\nElemento en (2, 1, 2):\", array_3d[2, 1, 2])  # 24\n"
   ]
  },
  {
   "cell_type": "markdown",
   "metadata": {},
   "source": [
    "# 4. Manipulación de la Forma del Array\n",
    "NumPy permite cambiar la forma de un array sin modificar sus datos mediante funciones como `reshape`, `ravel` y `transpose`.\n"
   ]
  },
  {
   "cell_type": "code",
   "execution_count": 98,
   "metadata": {},
   "outputs": [
    {
     "name": "stdout",
     "output_type": "stream",
     "text": [
      "Array reshape (2x6):\n",
      " [[ 0  1  2  3  4  5]\n",
      " [ 6  7  8  9 10 11]]\n",
      "Array aplanado: [ 0  1  2  3  4  5  6  7  8  9 10 11]\n",
      "Array transpuesto:\n",
      " [[ 0  6]\n",
      " [ 1  7]\n",
      " [ 2  8]\n",
      " [ 3  9]\n",
      " [ 4 10]\n",
      " [ 5 11]]\n"
     ]
    }
   ],
   "source": [
    "# Array unidimensional\n",
    "array = np.arange(12)  # [0, 1, ..., 11]\n",
    "\n",
    "# Cambiar la forma a una matriz 3x4\n",
    "reshaped = array.reshape(2, 6) #Convierte el array unidimensional en una matriz 3x4\n",
    "print(\"Array reshape (2x6):\\n\", reshaped)\n",
    "\n",
    "# Aplanar el array a un vector\n",
    "flattened = reshaped.ravel() #Convierte la matriz 3x4 en un array unidimensional\n",
    "print(\"Array aplanado:\", flattened)\n",
    "\n",
    "# Transponer el array\n",
    "transposed = reshaped.T #Transpone la matriz 3x4 intercambiando filas por columnas. Lo que estaba en horizontal pasa a estar en vertical y viceversa.\n",
    "print(\"Array transpuesto:\\n\", transposed)\n",
    "\n",
    "#1- Crear un array de 25 elementos\n",
    "#2- Cambiar la forma del array a una matriz 5x5\n",
    "#2- Probar a ver qué pasa si hacemos un reshape de la forma del array a una matriz 2x4\n",
    "#3- Aplanar el array a un vector\n",
    "#4- Transponer el array\n"
   ]
  },
  {
   "cell_type": "markdown",
   "metadata": {},
   "source": [
    "# 5. Operaciones Aritméticas\n",
    "NumPy soporta operaciones aritméticas como suma, resta, multiplicación y división. Estas operaciones pueden realizarse entre arrays del mismo tamaño o entre un array y un escalar (broadcasting).\n",
    "\n",
    "## Operación con un escalar en NumPy\n",
    "\n",
    "En `NumPy`, una **operación con un escalar** implica realizar una operación matemática entre un **array** y un **número constante** (escalar). El escalar puede ser un número entero, flotante o incluso un valor negativo. En lugar de operar solo con dos arrays del mismo tamaño, esta operación se extiende de manera automática a todos los elementos del array.\n",
    "\n",
    "Por ejemplo, al multiplicar un array por un escalar, cada elemento del array será multiplicado por ese número:\n",
    "\n",
    "- **Suma con un escalar:** Se suma el escalar a cada elemento del array.  \n",
    "  Ejemplo: `array + 5` suma 5 a cada elemento del array.\n",
    "  \n",
    "- **Resta con un escalar:** Se resta el escalar de cada elemento del array.  \n",
    "  Ejemplo: `array - 2` resta 2 a cada elemento del array.\n",
    "  \n",
    "- **Multiplicación con un escalar:** Se multiplica cada elemento del array por el escalar.  \n",
    "  Ejemplo: `array * 3` multiplica cada elemento del array por 3.\n",
    "  \n",
    "- **División con un escalar:** Se divide cada elemento del array por el escalar.  \n",
    "  Ejemplo: `array / 4` divide cada elemento del array por 4.\n",
    "\n",
    "Estas operaciones son **element-wise**, es decir, se aplican individualmente a cada uno de los elementos del array. No es necesario hacer un ciclo explícito sobre los elementos del array, ya que `NumPy` realiza automáticamente las operaciones en cada posición del array.\n",
    "\n",
    "\n",
    "## Suma acumulada en Numpy\n",
    "La suma acumulada es una operación que calcula la suma de los elementos de un array de manera progresiva. Es decir, en cada posición del array, el valor es la suma de todos los valores previos más el valor actual."
   ]
  },
  {
   "cell_type": "code",
   "execution_count": 99,
   "metadata": {},
   "outputs": [
    {
     "name": "stdout",
     "output_type": "stream",
     "text": [
      "Suma: [5 7 9]\n",
      "Resta: [-3 -3 -3]\n",
      "Multiplicación: [ 4 10 18]\n",
      "División: [0.25 0.4  0.5 ]\n",
      "Array1 multiplicado por 2: [2 4 6]\n"
     ]
    },
    {
     "data": {
      "text/plain": [
       "'MINIEJERCICIO de CELDA:\\n1- Crea dos arrays de matrices 2x2\\n--> Antes de realizar cada una de las operaciones intenta predecir el resultado\\n2- Realiza la suma de los dos arrays\\n3- Realiza la resta de los dos arrays\\n4- Realiza la multiplicación de los dos arrays\\n5- Realiza la división de los dos arrays\\n6- Realiza operaciones con un escalar 6 sobre uno de los arrays que has utilizado en este ejercicio\\n'"
      ]
     },
     "execution_count": 99,
     "metadata": {},
     "output_type": "execute_result"
    }
   ],
   "source": [
    "# Arrays de ejemplo\n",
    "array1 = np.array([1, 2, 3])\n",
    "array2 = np.array([4, 5, 6])\n",
    "\n",
    "# Suma: Cuando sumamos dos arrays, **NumPy** realiza la suma **elemento por elemento**. Esto significa que cada elemento de un array se suma con el elemento correspondiente del otro array. Si los arrays tienen el mismo tamaño, la operación se realiza sin problemas.\n",
    "print(\"Suma:\", array1 + array2)\n",
    "#1 + 4 = 5, 2 + 5 = 7, y 3 + 6 = 9\n",
    "\n",
    "# Resta: Al igual que con la suma, NumPy realiza la resta elemento por elemento entre dos arrays. Si los arrays tienen el mismo tamaño, la resta se realiza entre los elementos correspondientes.\n",
    "print(\"Resta:\", array1 - array2)\n",
    "# 1 - 4 = -3, 2 - 5 = -3, y 3 - 6 = -3.\n",
    "\n",
    "# Multiplicación: La multiplicación entre arrays se realiza elemento por elemento, lo que significa que cada elemento del primer array se multiplica por el elemento correspondiente del segundo array.\n",
    "print(\"Multiplicación:\", array1 * array2)\n",
    "\n",
    "# División: Cuando se realiza una división entre dos arrays de igual tamaño, NumPy lleva a cabo la división elemento por elemento, es decir, cada elemento del primer array se divide por el elemento correspondiente del segundo array.\n",
    "print(\"División:\", array1 / array2)\n",
    "\n",
    "# Operación con un escalar\n",
    "print(\"Array1 multiplicado por 2:\", array1 * 2)\n",
    "\n",
    "\"\"\"MINIEJERCICIO de CELDA:\n",
    "1- Crea dos arrays de matrices 2x2\n",
    "--> Antes de realizar cada una de las operaciones intenta predecir el resultado\n",
    "2- Realiza la suma de los dos arrays\n",
    "3- Realiza la resta de los dos arrays\n",
    "4- Realiza la multiplicación de los dos arrays\n",
    "5- Realiza la división de los dos arrays\n",
    "6- Realiza operaciones con un escalar 6 sobre uno de los arrays que has utilizado en este ejercicio\n",
    "\"\"\"\n"
   ]
  },
  {
   "cell_type": "code",
   "execution_count": 100,
   "metadata": {},
   "outputs": [
    {
     "name": "stdout",
     "output_type": "stream",
     "text": [
      "Ventas diarias:  [120 150 100 180 140 210 190]\n",
      "Ventas acumuladas:  [ 120  270  370  550  690  900 1090]\n"
     ]
    }
   ],
   "source": [
    "#Suma acumulada\n",
    "\n",
    "# Ventas diarias en la tienda en un período de 7 días (en dólares)\n",
    "ventas_diarias = np.array([120, 150, 100, 180, 140, 210, 190])\n",
    "\n",
    "# Calcular la suma acumulativa de las ventas diarias\n",
    "ventas_acumuladas = np.cumsum(ventas_diarias)\n",
    "print(\"Ventas diarias: \", ventas_diarias)\n",
    "print(\"Ventas acumuladas: \", ventas_acumuladas)\n",
    "\n",
    "#Crea un vector (array unidimensional) de 25 elementos con valores aleatorios enteros. Obten la suma acumulativa de los elementos del vector.\n",
    "#Crea un vector (array unidimensional) de 25 elementos con valores aleatorios flotantes. Obten la suma acumulativa de los elementos del vector.\n"
   ]
  },
  {
   "cell_type": "markdown",
   "metadata": {},
   "source": [
    "# 6. Herramientas de Jupyter\n",
    "\n",
    "**1. Tipos de celdas**  \n",
    "Jupyter Notebook tiene dos tipos principales de celdas:\n",
    "- **Celdas de código**: Se ejecutan como código Python y pueden almacenar variables, funciones, etc.\n",
    "- **Celdas de Markdown**: Permiten escribir texto con formato, incluir ecuaciones ($\\LaTeX$), imágenes y tablas.\n",
    "\n",
    "\n",
    "⚡ **2. Ejecución de celdas**  \n",
    "- **Shift + Enter** → Ejecuta la celda y pasa a la siguiente.\n",
    "- **Ctrl + Enter** → Ejecuta la celda y permanece en la misma.\n",
    "- **Alt + Enter** → Ejecuta la celda y crea una nueva debajo.\n",
    "\n",
    "**Orden de ejecución**:  \n",
    "Si ejecutas celdas en desorden, las variables pueden cambiar. Usa **Kernel > Restart & Run All** para asegurarte de que todo se ejecuta en orden.\n",
    "\n",
    "**3. Variables y Kernel**  \n",
    "Las celdas comparten variables mientras el kernel esté activo.  \n",
    "Si el kernel se reinicia (**Restart Kernel**), se pierden todas las variables y es necesario volver a ejecutar el código.  \n",
    "Para ver variables en memoria, usa:  \n",
    "`%whos`  # Muestra todas las variables activas con su tipo y tamaño\n",
    "\n",
    "**4. Visualización de Datos**  \n",
    "Puedes mostrar gráficos directamente dentro de Jupyter usando:  \n",
    "`%matplotlib inline`  \n",
    "`plt.plot([1, 2, 3, 4], [10, 20, 25, 30])`  \n",
    "`plt.show()`\n",
    "\n",
    "**5. Comandos Mágicos (% y %%)**  \n",
    "Son atajos para tareas comunes en Jupyter:  \n",
    "**A. Comandos de línea** (afectan solo una línea de código):  \n",
    "`%time x = [i**2 for i in range(1000)]`  # Mide el tiempo de ejecución (Optimización de código, comparar rendimiento de diferentes enfoques, evaluar el impacto de cambios en el código, monitorear el tiempo en proyectos grandes, establecer límites de tiempo para tareas... )\n",
    "`%ls`  # Lista los archivos en el directorio actual  \n",
    "\n",
    "**B. Comandos de celda** (afectan toda la celda):  \n",
    "`%%timeit`  \n",
    "`x = [i**2 for i in range(1000)]`  # Mide el tiempo con múltiples ejecuciones\n",
    "\n",
    "**6. Acceso a la Terminal desde Jupyter**  \n",
    "Puedes ejecutar comandos del sistema operativo dentro de Jupyter:  \n",
    "`!ls`   # En Linux/macOS, lista archivos del directorio  \n",
    "`!dir`  # En Windows, lista archivos del directorio  \n",
    "\n",
    "**7. Guardar y Exportar Notebooks**  \n",
    "Puedes guardar y exportar tu trabajo en diferentes formatos:  \n",
    "**File > Download as > PDF / HTML / Python**  \n",
    "Para convertir desde la terminal:  \n",
    "`jupyter nbconvert --to html notebook.ipynb`\n"
   ]
  },
  {
   "cell_type": "code",
   "execution_count": 101,
   "metadata": {},
   "outputs": [
    {
     "name": "stdout",
     "output_type": "stream",
     "text": [
      "No variables match your requested type.\n"
     ]
    }
   ],
   "source": [
    "%whos # Muestra todas las variables activas con su tipo y tamaño en memoria"
   ]
  },
  {
   "cell_type": "code",
   "execution_count": 102,
   "metadata": {},
   "outputs": [
    {
     "data": {
      "image/png": "[encoded data removed]",
      "text/plain": [
       "<Figure size 640x480 with 1 Axes>"
      ]
     },
     "metadata": {},
     "output_type": "display_data"
    }
   ],
   "source": [
    "#Instala matplotlib con: pip install matplotlib\n",
    "\n",
    "import matplotlib.pyplot as plt\n",
    "\n",
    "# Crear una gráfica\n",
    "plt.plot([1, 2, 3, 4], [10, 20, 25, 30])\n",
    "\n",
    "# Mostrar la gráfica\n",
    "plt.show()"
   ]
  },
  {
   "cell_type": "code",
   "execution_count": 103,
   "metadata": {},
   "outputs": [
    {
     "data": {
      "image/png": "[encoded data removed]",
      "text/plain": [
       "<Figure size 640x480 with 1 Axes>"
      ]
     },
     "metadata": {},
     "output_type": "display_data"
    }
   ],
   "source": [
    "%matplotlib inline\n",
    "plt.plot([1, 2, 3, 4], [10, 20, 25, 30])\n",
    "plt.show()"
   ]
  },
  {
   "cell_type": "code",
   "execution_count": 104,
   "metadata": {},
   "outputs": [
    {
     "name": "stdout",
     "output_type": "stream",
     "text": [
      "CPU times: user 473 μs, sys: 25 μs, total: 498 μs\n",
      "Wall time: 552 μs\n",
      "ejercicios.html         ejercicios.pdf          ejercicios.tex\n",
      "ejercicios.ipynb        ejercicios.py           \u001b[34mexported_files\u001b[m\u001b[m/\n",
      "ejercicios.md           ejercicios.slides.html  jupyter.ipynb\n"
     ]
    }
   ],
   "source": [
    "%time x = [i**2 for i in range(1000)]  # Mide el tiempo de ejecución de la operación. AFECTA SOLO A ESTA LÍNEA\n",
    "%ls  # Lista los archivos en el directorio actual\n"
   ]
  },
  {
   "cell_type": "code",
   "execution_count": 105,
   "metadata": {},
   "outputs": [
    {
     "name": "stdout",
     "output_type": "stream",
     "text": [
      "259 μs ± 10.2 μs per loop (mean ± std. dev. of 7 runs, 1,000 loops each)\n"
     ]
    }
   ],
   "source": [
    "%%timeit\n",
    "x = [i**2 for i in range(1000)]  # Mide el tiempo con múltiples ejecuciones. AFECTA A TODA LA CELDA\n"
   ]
  },
  {
   "cell_type": "code",
   "execution_count": 106,
   "metadata": {},
   "outputs": [
    {
     "name": "stdout",
     "output_type": "stream",
     "text": [
      "ejercicios.html        ejercicios.pdf         ejercicios.tex\n",
      "ejercicios.ipynb       ejercicios.py          \u001b[34mexported_files\u001b[m\u001b[m\n",
      "ejercicios.md          ejercicios.slides.html jupyter.ipynb\n",
      "zsh:1: command not found: dir\n"
     ]
    }
   ],
   "source": [
    "#Podemos ejecutar comandos de la terminal en Jupyter Notebook\n",
    "!ls   # En Linux/macOS, lista archivos del directorio\n",
    "!dir  # En Windows, lista archivos del directorio\n"
   ]
  },
  {
   "cell_type": "code",
   "execution_count": 107,
   "metadata": {},
   "outputs": [
    {
     "data": {
      "text/plain": [
       "'!jupyter nbconvert --to html ejercicios.ipynb\\n#Para exportar a pdf en Windows: Descarga e instala MiKTeX, que incluye xelatex. En Linux: Instala texlive-xetex.\\n!jupyter nbconvert --to pdf ejercicios.ipynb\\n!jupyter nbconvert --to markdown ejercicios.ipynb\\n!jupyter nbconvert --to python ejercicios.ipynb\\n!jupyter nbconvert --to script ejercicios.ipynb\\n!jupyter nbconvert --to slides ejercicios.ipynb\\n!jupyter nbconvert --to latex ejercicios.ipynb\\n#Convertir y abrir el archivo\\n!jupyter nbconvert --to html --execute ejercicios.ipynb && open ejercicios.ipynb\\n#Guardar la salida en un directorio específico\\n!jupyter nbconvert --to html --output-dir=exported_files ejercicios.ipynb\\n#Convertir todos los archivos de un directorio\\n!jupyter nbconvert --to pdf *.ipynb\\n#Convertir todos los archivos de un directorio y guardar la salida en un directorio específico\\n!jupyter nbconvert --to pdf *.ipynb --output-dir=exported_files\\n#Convertir todos los archivos de un directorio y guardar la salida en un directorio específico con nombres personalizados\\n!jupyter nbconvert --to pdf *.ipynb --output-dir=exported_files --output=exported_files/notebook'"
      ]
     },
     "execution_count": 107,
     "metadata": {},
     "output_type": "execute_result"
    }
   ],
   "source": [
    "\"\"\"!jupyter nbconvert --to html ejercicios.ipynb\n",
    "#Para exportar a pdf en Windows: Descarga e instala MiKTeX, que incluye xelatex. En Linux: Instala texlive-xetex.\n",
    "!jupyter nbconvert --to pdf ejercicios.ipynb\n",
    "!jupyter nbconvert --to markdown ejercicios.ipynb\n",
    "!jupyter nbconvert --to python ejercicios.ipynb\n",
    "!jupyter nbconvert --to script ejercicios.ipynb\n",
    "!jupyter nbconvert --to slides ejercicios.ipynb\n",
    "!jupyter nbconvert --to latex ejercicios.ipynb\n",
    "#Convertir y abrir el archivo\n",
    "!jupyter nbconvert --to html --execute ejercicios.ipynb && open ejercicios.ipynb\n",
    "#Guardar la salida en un directorio específico\n",
    "!jupyter nbconvert --to html --output-dir=exported_files ejercicios.ipynb\n",
    "#Convertir todos los archivos de un directorio\n",
    "!jupyter nbconvert --to pdf *.ipynb\n",
    "#Convertir todos los archivos de un directorio y guardar la salida en un directorio específico\n",
    "!jupyter nbconvert --to pdf *.ipynb --output-dir=exported_files\n",
    "#Convertir todos los archivos de un directorio y guardar la salida en un directorio específico con nombres personalizados\n",
    "!jupyter nbconvert --to pdf *.ipynb --output-dir=exported_files --output=exported_files/notebook\"\"\""
   ]
  },
  {
   "cell_type": "code",
   "execution_count": 108,
   "metadata": {},
   "outputs": [
    {
     "name": "stdout",
     "output_type": "stream",
     "text": [
      "[NbConvertApp] Converting notebook ejercicios.ipynb to pdf\n",
      "[NbConvertApp] Writing 26045 bytes to notebook.tex\n",
      "[NbConvertApp] Building PDF\n",
      "[NbConvertApp] Running xelatex 3 times: ['xelatex', 'notebook.tex', '-quiet']\n",
      "[NbConvertApp] Running bibtex 1 time: ['bibtex', 'notebook']\n",
      "[NbConvertApp] WARNING | bibtex had problems, most likely because there were no citations\n",
      "[NbConvertApp] PDF successfully created\n",
      "[NbConvertApp] Writing 27596 bytes to ejercicios.pdf\n"
     ]
    }
   ],
   "source": [
    "!jupyter nbconvert --to pdf ejercicios.ipynb"
   ]
  },
  {
   "cell_type": "markdown",
   "metadata": {},
   "source": [
    "# Introducción teórica de Álgebra Lineal en Numpy\n",
    "\n",
    "El **álgebra lineal** es una rama fundamental de las matemáticas que se ocupa de los vectores, las matrices y las transformaciones lineales. En el campo de la programación, especialmente en la **inteligencia artificial** y el **análisis de datos**, el álgebra lineal se utiliza para realizar cálculos eficientes con grandes volúmenes de datos. En este sentido, **NumPy**, una de las bibliotecas más populares de Python, es esencial para realizar operaciones algebraicas de manera rápida y optimizada.\n",
    "\n",
    "## Conceptos básicos\n",
    "\n",
    "### 1. **Vectores**\n",
    "\n",
    "Un **vector** es una secuencia ordenada de números, que pueden representar una variedad de datos como características de un objeto, puntos en el espacio o cualquier otra cosa que pueda ser representada en un formato lineal. \n",
    "\n",
    "### 2. **Matrices**\n",
    "\n",
    "Una **matriz** es una colección bidimensional de números dispuestos en filas y columnas. Las matrices son fundamentales para resolver sistemas de ecuaciones lineales y realizar transformaciones en espacios multidimensionales.\n",
    "\n",
    "### 3. **Operaciones básicas con vectores y matrices**\n",
    "\n",
    "El álgebra lineal en Numpy nos permite realizar operaciones como la **suma**, **resta**, **producto** y **división** de vectores y matrices de forma eficiente. Estas operaciones pueden hacerse **elemento por elemento** o mediante operaciones más avanzadas como el **producto punto** y **producto cruzado**.\n",
    "\n",
    "### Producto Punto y Producto Cruzado en Numpy\n",
    "\n",
    "En álgebra lineal, el **producto punto** y el **producto cruzado** son dos operaciones fundamentales que se realizan entre dos vectores. A continuación, te explicamos qué son, cómo se calculan y cómo se implementan en Numpy.\n",
    "\n",
    "#### 1. **Producto Punto (Dot Product)**\n",
    "\n",
    "El **producto punto** o **producto escalar** entre dos vectores es una operación que combina las componentes de los vectores multiplicando sus elementos correspondientes y luego sumando los resultados. Es ampliamente utilizado en álgebra lineal, procesamiento de señales, y en la evaluación de la similitud entre vectores.\n",
    "\n",
    "La fórmula para el producto punto entre dos vectores **A** y **B** es:\n",
    "\n",
    "\\[\n",
    "\\text{Producto punto} = A_1 \\times B_1 + A_2 \\times B_2 + \\dots + A_n \\times B_n\n",
    "\\]\n",
    "\n",
    "Donde:\n",
    "- \\( A_1, A_2, \\dots, A_n \\) son los elementos del vector **A**.\n",
    "- \\( B_1, B_2, \\dots, B_n \\) son los elementos del vector **B**.\n",
    "\n",
    "##### Ejemplo en Numpy:\n",
    "\n",
    "Supongamos que tenemos dos vectores de 3 dimensiones:\n",
    "\n",
    "```python\n",
    "\n",
    "# Definimos dos vectores\n",
    "vector_a = np.array([1, 2, 3])\n",
    "vector_b = np.array([4, 5, 6])\n",
    "\n",
    "# Calculamos el producto punto entre los dos vectores\n",
    "producto_punto = np.dot(vector_a, vector_b)\n",
    "\n",
    "print(\"Producto punto:\", producto_punto)\n",
    "\n",
    "#Salida: 32 --> 1 x 4 + 2 x 5 + 3 x 6 \n",
    "\n",
    "### Producto Cruzado (Cross Product)\n",
    "\n",
    "El **producto cruzado** es una operación matemática entre dos vectores en 3 dimensiones que da como resultado otro vector perpendicular a ambos vectores originales. Esta operación se utiliza en física, ingeniería y gráficos por computadora para calcular momentos de fuerza, normales a superficies, y más.\n",
    "\n",
    "#### Definición\n",
    "\n",
    "El **producto cruzado** entre dos vectores **A** y **B**, en tres dimensiones, produce un vector **C** que es perpendicular a ambos vectores. La dirección del vector resultante sigue la regla de la mano derecha, y su magnitud es igual al área del paralelogramo formado por los dos vectores.\n",
    "\n",
    "La fórmula para el producto cruzado entre dos vectores **A** y **B** es:\n",
    "\n",
    "\\[\n",
    "\\text{Producto cruzado} = \\mathbf{A} \\times \\mathbf{B} = \n",
    "\\begin{vmatrix}\n",
    "\\hat{i} & \\hat{j} & \\hat{k} \\\\\n",
    "A_1 & A_2 & A_3 \\\\\n",
    "B_1 & B_2 & B_3\n",
    "\\end{vmatrix}\n",
    "\\]\n",
    "\n",
    "Donde:\n",
    "- \\( \\hat{i}, \\hat{j}, \\hat{k} \\) son los vectores unitarios en las direcciones **x**, **y**, y **z** respectivamente.\n",
    "- \\( A_1, A_2, A_3 \\) son las componentes del primer vector **A**.\n",
    "- \\( B_1, B_2, B_3 \\) son las componentes del segundo vector **B**.\n",
    "\n",
    "#### Propiedades\n",
    "\n",
    "- El producto cruzado solo se puede realizar entre vectores de 3 dimensiones.\n",
    "- El resultado es siempre un vector, no un escalar.\n",
    "- El producto cruzado es **antisimétrico**, es decir, el orden de los vectores afecta el resultado:\n",
    "\n",
    "\\[\n",
    "\\mathbf{A} \\times \\mathbf{B} = - (\\mathbf{B} \\times \\mathbf{A})\n",
    "\\]\n",
    "\n",
    "- La magnitud del producto cruzado es igual al área del paralelogramo formado por los dos vectores:\n",
    "\n",
    "\\[\n",
    "|\\mathbf{A} \\times \\mathbf{B}| = |\\mathbf{A}| \\cdot |\\mathbf{B}| \\cdot \\sin(\\theta)\n",
    "\\]\n",
    "\n",
    "donde \\( \\theta \\) es el ángulo entre los vectores **A** y **B**.\n",
    "\n",
    "#### Ejemplo en Numpy\n",
    "\n",
    "Supongamos que tenemos dos vectores en 3D:\n",
    "\n",
    "```python\n",
    "\n",
    "# Definimos dos vectores\n",
    "vector_a = np.array([1, 2, 3])\n",
    "vector_b = np.array([4, 5, 6])\n",
    "\n",
    "# Calculamos el producto cruzado entre los dos vectores\n",
    "producto_cruzado = np.cross(vector_a, vector_b)\n",
    "\n",
    "print(\"Producto cruzado:\", producto_cruzado)\n",
    "\n",
    "# Salida: -3 --> i, j, k : i= 2x6 - 3x5 ; j= 1x6 - 4x3 ; k= 1x5 - 4x2\n"
   ]
  },
  {
   "cell_type": "code",
   "execution_count": 109,
   "metadata": {},
   "outputs": [
    {
     "name": "stdout",
     "output_type": "stream",
     "text": [
      "Raíz cuadrada: [1. 2. 3.]\n",
      "La distancia del ejemplo de distancia euclidiana es: 5.0\n",
      "Distancia Euclidiana entre A y B: 5.196152422706632\n",
      "Distancia Euclidiana al Origen: 7.0710678118654755\n",
      "Distancia Euclidiana al Origen: 7.0710678118654755\n",
      "Exponente: [2.71828183e+00 5.45981500e+01 8.10308393e+03]\n",
      "Logaritmo: [0.         1.38629436 2.19722458]\n",
      "Seno: [ 0.84147098 -0.7568025   0.41211849]\n",
      "Coseno: [ 0.54030231 -0.65364362 -0.91113026]\n"
     ]
    }
   ],
   "source": [
    "g = np.array([1, 4, 9])\n",
    "\n",
    "# 1. Raíz cuadrada: Normalización de datos, cálculo de distancias euclidianas...\n",
    "h = np.sqrt(g)\n",
    "print(\"Raíz cuadrada:\", h)\n",
    "\n",
    "# 1.1 Distancia Euclidiana entre dos puntos: distancia en línea recta entre dos puntos en un espacio euclidiano\n",
    "punto1 = np.array([1, 2])\n",
    "punto2 = np.array([4, 6])\n",
    "\n",
    "distancia = np.sqrt(np.sum((punto2 - punto1) ** 2)) # 3, 4 -> 3^2 + 4^2 = 9 + 16 = 25 -> raíz cuadrada de 25 = 5.0\n",
    "print(\"La distancia del ejemplo de distancia euclidiana es:\",distancia)  # Resultado: 5.0\n",
    "\n",
    "# 1. 2 Distancia Euclidiana en NumPy con la función np.linalg.norm   \n",
    "\n",
    "# Definir dos puntos\n",
    "A = np.array([1, 2, 3])\n",
    "B = np.array([4, 5, 6])\n",
    "\n",
    "# Calcular distancia usando la norma L2\n",
    "distancia = np.linalg.norm(B - A)\n",
    "\n",
    "print(\"Distancia Euclidiana entre A y B:\", distancia)\n",
    "\n",
    "# 1.3 DISTANCIA EUCLIDIANA AL ORIGEN: Esto mide la magnitud del vector desde el origen hasta el punto (magnitud de un vector)\n",
    "\n",
    "# Definir un vector\n",
    "P = np.array([3, 4, 5])\n",
    "\n",
    "# Calcular distancia al origen \n",
    "distancia_origen = np.sqrt(np.sum(P ** 2))\n",
    "\n",
    "print(\"Distancia Euclidiana al Origen:\", distancia_origen)\n",
    "\n",
    "# 1. 4 Distancia Euclidiana al origen en NumPy con la función np.linalg.norm  \n",
    "\n",
    "# Definir un punto en 3D\n",
    "P = np.array([3, 4, 5])\n",
    "\n",
    "# Calcular distancia usando la norma L2\n",
    "distancia_origen = np.linalg.norm(P)\n",
    "\n",
    "print(\"Distancia Euclidiana al Origen:\", distancia_origen)\n",
    "\n",
    "\n",
    "#------------------------------------------------------------------------------\n",
    "\n",
    "\n",
    "# Exponente: Cálculo de probabilidades, cálculos financieros, modelado de crecimiento exponencial...\n",
    "i = np.exp(g)\n",
    "print(\"Exponente:\", i)\n",
    "\n",
    "# Logaritmo: Cálculo de entropía y pérdida logarítmica, modelado de crecimiento logarítmico...\n",
    "j = np.log(g)\n",
    "print(\"Logaritmo:\", j)\n",
    "\n",
    "# Seno: Procesamiento de señales, modelado de ondas, codificación de datos en redes neuronales...\n",
    "k = np.sin(g)\n",
    "print(\"Seno:\", k)\n",
    "\n",
    "# Coseno: Procesamiento de señales, modelado de ondas, codificación de datos en redes neuronales...\n",
    "l = np.cos(g)\n",
    "print(\"Coseno:\", l)"
   ]
  },
  {
   "cell_type": "markdown",
   "metadata": {},
   "source": [
    "## EJEMPLO DISTANCIA EUCLIDIANA\n",
    "Supongamos que tenemos un conjunto de datos de casas con características como el tamaño, la cantidad de habitaciones y el precio. Podemos representar cada casa como un vector de características con estos atributos. Ahora, dada una casa nueva, podemos calcular la distancia euclidiana entre su vector de características y los vectores de características de las casas existentes en el conjunto de datos. Las casas con las distancias euclidianas más cercanas se consideran más similares a la nueva casa."
   ]
  },
  {
   "cell_type": "code",
   "execution_count": 110,
   "metadata": {},
   "outputs": [
    {
     "name": "stdout",
     "output_type": "stream",
     "text": [
      "La casa más similar a la nueva casa es: [ 85   3 200] con una distancia de 11.18\n"
     ]
    }
   ],
   "source": [
    "# En nuestra agencia se define cada casa como un vector con un formato [tamaño_m2, habitaciones, precio_miles_euros]\n",
    "casa_1 = np.array([70, 2, 150])  # Casa 1\n",
    "casa_2 = np.array([85, 3, 200])  # Casa 2\n",
    "casa_3 = np.array([120, 4, 300]) # Casa 3\n",
    "casa_4 = np.array([60, 2, 130])  # Casa 4\n",
    "\n",
    "# Tenemos una nueva casa y queremos encontrar la casa más similar en el dataset\n",
    "nueva_casa = np.array([80, 3, 190])\n",
    "\n",
    "\"\"\"Imaginemos que cada casa es un punto en un espacio tridimensional, donde cada eje representa un atributo:\n",
    "Eje X → Tamaño (m²)\n",
    "Eje Y → Habitaciones\n",
    "Eje Z → Precio (€)\n",
    "Si graficamos estos puntos en un espacio 3D, la nueva casa estaría en algún lugar, y la distancia más corta a uno de los puntos existentes representaría la casa más similar.\"\"\"\n",
    "\n",
    "# Conjunto de casas representadas como vectores\n",
    "casas = np.array([casa_1, casa_2, casa_3, casa_4])\n",
    "\n",
    "# Función para calcular la distancia euclidiana entre dos vectores: d = raíz cuadrada ((x2 – x1)^2 + (y2 – y1)^2)\n",
    "def distancia_euclidiana(v1, v2):\n",
    "    return np.sqrt(np.sum((v1 - v2) ** 2)) # Usamos np.sum() para sumar todos los elemetos de un array.\n",
    "\n",
    "# Calcular la distancia de la nueva casa a cada casa del dataset\n",
    "distancias = [distancia_euclidiana(nueva_casa, casa) for casa in casas]\n",
    "\n",
    "# Encontrar la casa más cercana\n",
    "indice_casa_mas_parecida = np.argmin(distancias)  # Usamos np.argmin() para encontrar el vector más cercano en términos de distancia. Esta función devuelve el índice del menor valor en un array.\n",
    "casa_mas_parecida = casas[indice_casa_mas_parecida]\n",
    "\n",
    "print(f\"La casa más similar a la nueva casa es: {casa_mas_parecida} con una distancia de {distancias[indice_casa_mas_parecida]:.2f}\")\n",
    "\n",
    "#MINIEJERCICIO DE CELDA: supongamos que tenemos un conjunto de datos de discos de música con el siguiente formato: [número de canciones, premios grammy, ventas en miles de euros]. Cada disco es un vector en un espacio tridimensional. Dado un nuevo disco de nuestra discográfica queremos evaluar qué disco existente es más similar en términos de distancia euclidiana.\n"
   ]
  },
  {
   "cell_type": "markdown",
   "metadata": {},
   "source": [
    "# Normalización de Datos\n",
    "\n",
    "En muchos algoritmos de IA, los datos deben estar en una escala comparable para que el modelo pueda aprender correctamente.\n",
    "\n",
    "La normalización mediante la magnitud del vector se utiliza para escalar los datos a una misma escala sin distorsionar sus relaciones."
   ]
  },
  {
   "cell_type": "code",
   "execution_count": 3,
   "metadata": {},
   "outputs": [
    {
     "name": "stdout",
     "output_type": "stream",
     "text": [
      "Vector Normalizado: [0.42426407 0.56568542 0.70710678]\n"
     ]
    }
   ],
   "source": [
    "#Distancia euclidiana para normalización de datos\n",
    "\n",
    "vector = np.array([3, 4, 5])\n",
    "\n",
    "# Normalización dividiendo por la magnitud (norma L2)\n",
    "vector_normalizado = vector / np.linalg.norm(vector)\n",
    "\n",
    "print(f\"Vector Normalizado:\", vector_normalizado)"
   ]
  },
  {
   "cell_type": "markdown",
   "metadata": {},
   "source": [
    "## Ejemplo normaliación de datos con norma L2\n",
    "\n",
    "En un equipo de fútbol, se recopilan las siguientes estadísticas de los jugadores:\n",
    "- Velocidad (km/h)\n",
    "- Resistencia (minutos sin fatigarse)\n",
    "- Precisión de pase (%)\n",
    "Dado que cada una de estas estadísticas está en una escala diferente, queremos normalizar los datos utilizando la norma L2 para que los valores tengan la misma influencia en el análisis."
   ]
  },
  {
   "cell_type": "code",
   "execution_count": 112,
   "metadata": {},
   "outputs": [
    {
     "name": "stdout",
     "output_type": "stream",
     "text": [
      "Datos originales:\n",
      "Jugador 1: Puntos=25, Asistencias=7, Rebotes=10\n",
      "Jugador 2: Puntos=18, Asistencias=10, Rebotes=6\n",
      "Jugador 3: Puntos=22, Asistencias=8, Rebotes=9\n",
      "Jugador 4: Puntos=15, Asistencias=5, Rebotes=7\n",
      "Jugador 5: Puntos=30, Asistencias=12, Rebotes=12\n",
      "Jugador 6: Puntos=20, Asistencias=6, Rebotes=8\n",
      "\n",
      "Datos normalizados (Norma L2):\n",
      "Jugador 1: Puntos=0.899, Asistencias=0.252, Rebotes=0.359\n",
      "Jugador 2: Puntos=0.839, Asistencias=0.466, Rebotes=0.280\n",
      "Jugador 3: Puntos=0.877, Asistencias=0.319, Rebotes=0.359\n",
      "Jugador 4: Puntos=0.867, Asistencias=0.289, Rebotes=0.405\n",
      "Jugador 5: Puntos=0.870, Asistencias=0.348, Rebotes=0.348\n",
      "Jugador 6: Puntos=0.894, Asistencias=0.268, Rebotes=0.358\n",
      "2\n",
      "(6, 3)\n"
     ]
    }
   ],
   "source": [
    "# Datos de los jugadores: Puntos, Asistencias, Rebotes\n",
    "jugadores = np.array([\n",
    "    [25, 7, 10],  # Jugador 1\n",
    "    [18, 10, 6],  # Jugador 2\n",
    "    [22, 8, 9],   # Jugador 3\n",
    "    [15, 5, 7],   # Jugador 4\n",
    "    [30, 12, 12], # Jugador 5\n",
    "    [20, 6, 8],   # Jugador 6\n",
    "])\n",
    "\n",
    "# Mostrar datos originales\n",
    "print(\"Datos originales:\")\n",
    "for i, jugador in enumerate(jugadores):\n",
    "    print(f\"Jugador {i+1}: Puntos={jugador[0]}, Asistencias={jugador[1]}, Rebotes={jugador[2]}\")\n",
    "\n",
    "def normalizar_l2(datos):\n",
    "    \"\"\"\n",
    "    Normaliza cada fila de la matriz usando la norma L2.\n",
    "    \n",
    "    Parámetros:\n",
    "    datos (ndarray): Matriz con los valores a normalizar.\n",
    "    \n",
    "    Retorna:\n",
    "    ndarray: Matriz con los valores normalizados.\n",
    "    \"\"\"\n",
    "    return datos / np.linalg.norm(datos, axis=1, keepdims=True)\n",
    "    #Cuando usamos axis=1 en una función de NumPy, estamos indicando que la operación se realizará a lo largo de las filas, es decir, afecta a las columnas\n",
    "\n",
    "# Aplicar normalización\n",
    "jugadores_normalizados = normalizar_l2(jugadores)\n",
    "\n",
    "print(\"\\nDatos normalizados (Norma L2):\")\n",
    "for i, jugador in enumerate(jugadores_normalizados):\n",
    "    print(f\"Jugador {i+1}: Puntos={jugador[0]:.3f}, Asistencias={jugador[1]:.3f}, Rebotes={jugador[2]:.3f}\")\n",
    "\n",
    "print(jugadores.ndim) #Número de dimensiones\n",
    "print(jugadores.shape) #Forma de la matriz"
   ]
  },
  {
   "cell_type": "markdown",
   "metadata": {},
   "source": [
    "### Reglas generales para axis:\n",
    "- `axis=0`  → Operación colapsa filas, es decir, actúa sobre las columnas.\n",
    "- `axis=1`  → Operación colapsa columnas, es decir, actúa sobre las filas."
   ]
  },
  {
   "cell_type": "code",
   "execution_count": 113,
   "metadata": {},
   "outputs": [
    {
     "name": "stdout",
     "output_type": "stream",
     "text": [
      "[12 15 18]\n"
     ]
    }
   ],
   "source": [
    "# Matriz 3x3\n",
    "matriz = np.array([[1, 2, 3], \n",
    "                   [4, 5, 6], \n",
    "                   [7, 8, 9]])\n",
    "\n",
    "# Suma por filas (axis=1)\n",
    "suma_filas = np.sum(matriz, axis=0)\n",
    "print(suma_filas)"
   ]
  },
  {
   "cell_type": "markdown",
   "metadata": {},
   "source": [
    "El parámetro `keepdims=True` se usa para mantener la misma cantidad de dimensiones en la salida que en la entrada. Por defecto, NumPy reduce la dimensión del array cuando aplicamos funciones como `sum()`. Con `keepdims=True`, NumPy devuelve el resultado manteniendo la dimensión original."
   ]
  },
  {
   "cell_type": "code",
   "execution_count": 114,
   "metadata": {},
   "outputs": [
    {
     "name": "stdout",
     "output_type": "stream",
     "text": [
      "(3,)\n",
      "[ 6 15 24]\n",
      "(3, 1)\n",
      "[[ 6]\n",
      " [15]\n",
      " [24]]\n"
     ]
    }
   ],
   "source": [
    "# Suma por filas sin keepdims\n",
    "suma_sin_keepdims = np.sum(matriz, axis=1)\n",
    "print(suma_sin_keepdims.shape)\n",
    "print(suma_sin_keepdims)  # (3,)\n",
    "\n",
    "# Suma por filas con keepdims\n",
    "suma_con_keepdims = np.sum(matriz, axis=1, keepdims=True)\n",
    "print(suma_con_keepdims.shape)\n",
    "print(suma_con_keepdims)  # (3,1)\n"
   ]
  },
  {
   "cell_type": "markdown",
   "metadata": {},
   "source": [
    "## Norma L1 (Manhattan)\n",
    "\n",
    "La **norma L1**, también conocida como **norma Manhattan** o **distancia Manhattan**, es una forma de medir la magnitud de un vector en un espacio n-dimensional, sumando los valores absolutos de sus componentes. Esta norma recibe su nombre porque se asocia con la distancia recorrida al caminar por las calles de una ciudad que sigue un patrón de cuadrícula, como Manhattan en Nueva York, donde solo puedes caminar en líneas rectas a lo largo de las calles y avenidas.\n",
    "\n",
    "\n",
    "### Usos en Programación y IA\n",
    "\n",
    "En programación y especialmente en **Inteligencia Artificial**, la norma L1 es útil cuando se busca una penalización o regularización en modelos como la **regresión Lasso**. La norma L1 puede ayudar a promover soluciones donde algunos coeficientes del modelo sean exactamente cero, lo que lleva a modelos más simples y menos propensos a sobreajustarse.\n",
    "\n",
    "También se utiliza en la medición de distancias entre puntos en espacios de alta dimensión, especialmente en algoritmos de clasificación, donde se pueden usar las distancias L1 para evaluar la cercanía entre puntos de datos.\n"
   ]
  },
  {
   "cell_type": "code",
   "execution_count": null,
   "metadata": {},
   "outputs": [],
   "source": [
    "import numpy as np\n",
    "\n",
    "# Definimos un vector\n",
    "v = np.array([3, -4, 2])\n",
    "\n",
    "# Calculamos la norma L1 (Manhattan)\n",
    "norma_L1 = np.linalg.norm(v, ord=1)\n",
    "\n",
    "print(\"Norma L1 del vector:\", norma_L1)\n"
   ]
  }
 ],
 "metadata": {
  "kernelspec": {
   "display_name": ".venv",
   "language": "python",
   "name": "python3"
  },
  "language_info": {
   "codemirror_mode": {
    "name": "ipython",
    "version": 3
   },
   "file_extension": ".py",
   "mimetype": "text/x-python",
   "name": "python",
   "nbconvert_exporter": "python",
   "pygments_lexer": "ipython3",
   "version": "3.10.0"
  }
 },
 "nbformat": 4,
 "nbformat_minor": 4
}
