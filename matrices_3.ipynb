{
 "cells": [
  {
   "cell_type": "code",
   "execution_count": 1,
   "metadata": {},
   "outputs": [
    {
     "name": "stdout",
     "output_type": "stream",
     "text": [
      "Matriz 5x5:\n",
      "[[ 0  1  2  3  4]\n",
      " [ 5  6  7  8  9]\n",
      " [10 11 12 13 14]\n",
      " [15 16 17 18 19]\n",
      " [20 21 22 23 24]]\n",
      "\n",
      "Matriz 2x4:\n",
      "[[0 1 2 3]\n",
      " [4 5 6 7]]\n",
      "\n",
      "Array aplanado (vector):\n",
      "[ 0  1  2  3  4  5  6  7  8  9 10 11 12 13 14 15 16 17 18 19 20 21 22 23\n",
      " 24]\n",
      "\n",
      "Matriz 5x5 transpuesta:\n",
      "[[ 0  5 10 15 20]\n",
      " [ 1  6 11 16 21]\n",
      " [ 2  7 12 17 22]\n",
      " [ 3  8 13 18 23]\n",
      " [ 4  9 14 19 24]]\n"
     ]
    }
   ],
   "source": [
    "import numpy as np\n",
    "\n",
    "\n",
    "# Crear un array de 25 elementos\n",
    "array = np.arange(25)\n",
    "\n",
    "# 2. Cambiar la forma del array a una matriz 5x5\n",
    "matriz_5x5 = array.reshape(5, 5)\n",
    "print(\"Matriz 5x5:\")\n",
    "print(matriz_5x5)\n",
    "\n",
    "# 2. Cambiar la forma del array a una matriz 2x4\n",
    "matriz_2x4 = array[:8].reshape(2, 4)\n",
    "print(\"\\nMatriz 2x4:\")\n",
    "print(matriz_2x4)\n",
    "\n",
    "# 3. Aplanar el array a un vector\n",
    "vector_aplanado = matriz_5x5.flatten()\n",
    "print(\"\\nArray aplanado (vector):\")\n",
    "print(vector_aplanado)\n",
    "\n",
    "# 4. Transponer el array\n",
    "matriz_transpuesta = matriz_5x5.T\n",
    "print(\"\\nMatriz 5x5 transpuesta:\")\n",
    "print(matriz_transpuesta)\n",
    "\n"
   ]
  },
  {
   "cell_type": "code",
   "execution_count": null,
   "metadata": {},
   "outputs": [],
   "source": [
    "ejemplo1= np.array([3, 5, 6, 2])\n",
    "ejemplo2= np.array([1, 4, 7, 8])\n",
    "\n",
    "print(\"La suma entre arrays es: \", ejemplo1 + ejemplo2)  \n",
    "\n",
    "\n",
    "#Crea dos arrays de matrices 2x2\n",
    "array1 = np.array([[1, 2], [3, 4]])\n",
    "array2 = np.array([[5, 6], [7, 8]])\n",
    "\n",
    "# suma \n",
    "print(\"La suma entre arrays es: \\n\", array1 + array2)\n",
    "# resta \n",
    "print(\"La resta entre arrays es: \\n\", array1 - array2)\n",
    "# multiplicacion\n",
    "print(\"La multiplicacion entre arrays es: \\n\", array1 * array2)\n",
    "# division\n",
    "print(f\"La division entre arrays es: \\n\", array1 / array2)\n",
    "\n",
    "\n",
    "#escalar 6\n",
    "print(\"La multiplicacion del array1 por el escalar 6 es: \\n\", array1 * 6 )\n",
    "print(\"La multiplicacion del array2 por el escalar 6 es: \\n\", array2 * 6 )\n"
   ]
  },
  {
   "cell_type": "code",
   "execution_count": 2,
   "metadata": {},
   "outputs": [
    {
     "name": "stdout",
     "output_type": "stream",
     "text": [
      "El vector:  [15  9 25  2  2 15 22 23  9 11 26 14 18 28  3  1  2  5 26  7  2 13  2 15\n",
      " 23]\n",
      "La suma acumulada del vector:  [ 15  24  49  51  53  68  90 113 122 133 159 173 191 219 222 223 225 230\n",
      " 256 263 265 278 280 295 318]\n",
      "El vector: [0.36100606 0.01276615 0.90218902 0.91522951 0.96827098 0.04410423\n",
      " 0.28666727 0.80030089 0.86892208 0.49987316 0.37040995 0.40690666\n",
      " 0.95162883 0.63743111 0.65798308 0.07089832 0.40732506 0.64938314\n",
      " 0.51871721 0.29684163 0.58895143 0.06507333 0.32161159 0.35505854\n",
      " 0.5974283 ]\n",
      "La suma acumulada del vector:  [ 0.36100606  0.37377221  1.27596122  2.19119073  3.15946171  3.20356595\n",
      "  3.49023322  4.2905341   5.15945618  5.65932934  6.02973929  6.43664596\n",
      "  7.38827479  8.0257059   8.68368897  8.75458729  9.16191235  9.81129549\n",
      " 10.3300127  10.62685432 11.21580575 11.28087908 11.60249067 11.95754921\n",
      " 12.55497752]\n"
     ]
    }
   ],
   "source": [
    "#SUMA ACUMULADA\n",
    "import numpy as np\n",
    "\n",
    "#Crea un vector con 25 elementos con valores aleatorios enteros y obten la suma\n",
    "vector_aleatorio = np.random.randint(0, 30, 25)\n",
    "print(\"El vector: \",vector_aleatorio)\n",
    "\n",
    "suma_vector_aleatorio = np.cumsum(vector_aleatorio)\n",
    "print(\"La suma acumulada del vector: \",suma_vector_aleatorio)\n",
    "\n",
    "#Crea un vector con 25 elementos con valores aleatorios flotantes y obten la suma acumulada\n",
    "vector_aleatorio = np.random.rand(25)\n",
    "print(\"El vector:\", vector_aleatorio)\n",
    "\n",
    "suma_vector_flotante = np.cumsum(vector_aleatorio)\n",
    "print(\"La suma acumulada del vector: \", suma_vector_flotante)\n",
    "\n"
   ]
  },
  {
   "cell_type": "code",
   "execution_count": 2,
   "metadata": {},
   "outputs": [
    {
     "name": "stdout",
     "output_type": "stream",
     "text": [
      "La casa más similar a la nueva casa es: [ 85   3 200] con una distancia de 11.18\n"
     ]
    }
   ],
   "source": [
    "\n",
    "import numpy as np\n",
    "# En nuestra agencia se define cada casa como un vector con un formato [tamaño_m2, habitaciones, precio_miles_euros]\n",
    "casa_1 = np.array([70, 2, 150])  # Casa 1\n",
    "casa_2 = np.array([85, 3, 200])  # Casa 2\n",
    "casa_3 = np.array([120, 4, 300]) # Casa 3\n",
    "casa_4 = np.array([60, 2, 130])  # Casa 4\n",
    "\n",
    "# Tenemos una nueva casa y queremos encontrar la casa más similar en el dataset\n",
    "nueva_casa = np.array([80, 3, 190])\n",
    "\n",
    "\"\"\"Imaginemos que cada casa es un punto en un espacio tridimensional, donde cada eje representa un atributo:\n",
    "Eje X → Tamaño (m²)\n",
    "Eje Y → Habitaciones\n",
    "Eje Z → Precio (€)\n",
    "Si graficamos estos puntos en un espacio 3D, la nueva casa estaría en algún lugar, y la distancia más corta a uno de los puntos existentes representaría la casa más similar.\"\"\"\n",
    "\n",
    "# Conjunto de casas representadas como vectores\n",
    "casas = np.array([casa_1, casa_2, casa_3, casa_4])\n",
    "\n",
    "# Función para calcular la distancia euclidiana entre dos vectores: d = raíz cuadrada ((x2 – x1)^2 + (y2 – y1)^2)\n",
    "def distancia_euclidiana(v1, v2):\n",
    "    return np.sqrt(np.sum((v1 - v2) ** 2)) # Usamos np.sum() para sumar todos los elemetos de un array.\n",
    "\n",
    "# Calcular la distancia de la nueva casa a cada casa del dataset\n",
    "distancias = [distancia_euclidiana(nueva_casa, casa) for casa in casas]\n",
    "\n",
    "# Encontrar la casa más cercana\n",
    "indice_casa_mas_parecida = np.argmin(distancias)  # Usamos np.argmin() para encontrar el vector más cercano en términos de distancia. Esta función devuelve el índice del menor valor en un array.\n",
    "casa_mas_parecida = casas[indice_casa_mas_parecida]\n",
    "\n",
    "print(f\"La casa más similar a la nueva casa es: {casa_mas_parecida} con una distancia de {distancias[indice_casa_mas_parecida]:.2f}\")"
   ]
  },
  {
   "cell_type": "code",
   "execution_count": 3,
   "metadata": {},
   "outputs": [
    {
     "name": "stdout",
     "output_type": "stream",
     "text": [
      "Raíz cuadrada: [1. 2. 3.]\n",
      "Exponente: [2.71828183e+00 5.45981500e+01 8.10308393e+03]\n",
      "Logaritmo: [0.         1.38629436 2.19722458]\n",
      "Seno: [ 0.84147098 -0.7568025   0.41211849]\n",
      "Coseno: [ 0.54030231 -0.65364362 -0.91113026]\n"
     ]
    }
   ],
   "source": [
    "g = np.array([1, 4, 9])\n",
    "\n",
    "# Raíz cuadrada\n",
    "h = np.sqrt(g)\n",
    "print(\"Raíz cuadrada:\", h)\n",
    "\n",
    "# Exponente\n",
    "i = np.exp(g)\n",
    "print(\"Exponente:\", i)\n",
    "\n",
    "# Logaritmo\n",
    "j = np.log(g)\n",
    "print(\"Logaritmo:\", j)\n",
    "\n",
    "# Seno\n",
    "k = np.sin(g)\n",
    "print(\"Seno:\", k)\n",
    "\n",
    "# Coseno\n",
    "l = np.cos(g)\n",
    "print(\"Coseno:\", l)"
   ]
  },
  {
   "cell_type": "code",
   "execution_count": 4,
   "metadata": {},
   "outputs": [
    {
     "name": "stdout",
     "output_type": "stream",
     "text": [
      "El disco más aparecido es : [ 49   4 250] con una distancia de 120.21\n"
     ]
    }
   ],
   "source": [
    "import numpy as np\n",
    "\n",
    "#supongamos que tenemos un conjunto de datos de discos de música con el siguiente formato: [número de canciones, premios grammy, ventas en miles de euros]. Cada disco es un vector en un espacio tridimensional. Dado un nuevo disco de nuestra discográfica queremos evaluar qué disco existente es más similar en términos de distancia euclidiana.\n",
    "\n",
    "disco_1 = np.array([49, 4, 250])  # número_canciones, premios_grammy, ventas_miles_euros\n",
    "disco_2 = np.array([60, 1, 212]) \n",
    "disco_3 = np.array([110, 2, 100]) \n",
    "\n",
    "nuevo_disco = np.array([80, 3, 190])\n",
    "\n",
    "# vectores\n",
    "discos = np.array([disco_1, disco_2, disco_3])\n",
    "\n",
    "# distancia euclidiana entre dos vectores\n",
    "def distancia(v1, v2):\n",
    "    return np.sqrt(np.sum((v1 - v2) ** 2)) \n",
    "\n",
    "# Calcular distancia euclidiana\n",
    "distancias = [distancia(nuevo_disco, discos) for disco in discos]\n",
    "\n",
    "# Encontrar el disco mas parecido\n",
    "indice_disco_mas_parecido = np.argmin(distancias)  # Usamos np.argmin() para encontrar el vector más cercano en términos de distancia. Esta función devuelve el índice del menor valor en un array.\n",
    "disco_mas_parecido = discos[indice_disco_mas_parecido]\n",
    "\n",
    "print(f\"El disco más aparecido es : {disco_mas_parecido} con una distancia de {distancias[indice_disco_mas_parecido]:.2f}\")"
   ]
  },
  {
   "cell_type": "code",
   "execution_count": null,
   "metadata": {},
   "outputs": [],
   "source": [
    "!jupyter nbconvert --to pdf primer_viernes.ipynb"
   ]
  },
  {
   "cell_type": "code",
   "execution_count": null,
   "metadata": {},
   "outputs": [],
   "source": []
  }
 ],
 "metadata": {
  "kernelspec": {
   "display_name": ".venv",
   "language": "python",
   "name": "python3"
  },
  "language_info": {
   "codemirror_mode": {
    "name": "ipython",
    "version": 3
   },
   "file_extension": ".py",
   "mimetype": "text/x-python",
   "name": "python",
   "nbconvert_exporter": "python",
   "pygments_lexer": "ipython3",
   "version": "3.10.0"
  }
 },
 "nbformat": 4,
 "nbformat_minor": 2
}
