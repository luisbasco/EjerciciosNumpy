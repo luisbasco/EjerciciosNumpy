{
 "cells": [
  {
   "cell_type": "code",
   "execution_count": 7,
   "metadata": {},
   "outputs": [
    {
     "name": "stdout",
     "output_type": "stream",
     "text": [
      "[5 5 8]\n",
      "[8 6 5]\n",
      "Producto punto: 110\n",
      "[9 5 9]\n",
      "[3 9 2]\n",
      "Producto cruzado: [-71   9  66]\n"
     ]
    }
   ],
   "source": [
    "import numpy as np\n",
    "\n",
    "# Definimos dos vectores\n",
    "vector_a = np.random.randint(1, 10, 3)\n",
    "vector_b = np.random.randint(1, 10, 3)\n",
    "\n",
    "print(vector_a)\n",
    "print(vector_b)\n",
    "\n",
    "# Calculamos el producto punto entre los dos vectores\n",
    "producto_punto = np.dot(vector_a, vector_b)\n",
    "\n",
    "print(\"Producto punto:\", producto_punto)\n",
    "\n",
    "''''''\n",
    "vector_c = np.random.randint(1, 10, 3)\n",
    "vector_d = np.random.randint(1, 10, 3)\n",
    "\n",
    "print(vector_c)\n",
    "print(vector_d)\n",
    "\n",
    "producto_cruzado = np.cross(vector_c, vector_d)\n",
    "\n",
    "print(\"Producto cruzado:\", producto_cruzado)\n",
    "\n"
   ]
  },
  {
   "cell_type": "code",
   "execution_count": 26,
   "metadata": {},
   "outputs": [
    {
     "name": "stdout",
     "output_type": "stream",
     "text": [
      "[ 5 10 15 20]\n",
      "[100 200 300 400]\n",
      "L2 entre A y B: 520.34\n",
      "Distancia de origen de A: 27.39\n",
      "Distancia de origen de B: 547.72\n",
      "L1 de A 50.0\n",
      "L1 de B 1000.0\n"
     ]
    }
   ],
   "source": [
    "import numpy as np\n",
    "\n",
    "\n",
    "A = np.arange(5, 21, 5)\n",
    "B = np.arange(100, 401, 100)\n",
    "print(A)\n",
    "print(B)\n",
    "\n",
    "#L2 euclidiana\n",
    "L2 = np.linalg.norm(B - A)\n",
    "print(f\"L2 entre A y B: {L2:.2f}\")\n",
    "\n",
    "#distancia desde el origen \n",
    "distancia_origenA = np.sqrt(np.sum(A ** 2))\n",
    "distancia_origenB = np.sqrt(np.sum(B ** 2))\n",
    "\n",
    "print(f\"Distancia de origen de A: {distancia_origenA:.2f}\")\n",
    "print(f\"Distancia de origen de B: {distancia_origenB:.2f}\")\n",
    "\n",
    "'''#L1 Manhattan\n",
    "L1_A = np.linalg.norm(A, ord=1)\n",
    "print(\"L1 de A\",L1_A)\n",
    "\n",
    "L1_B = np.linalg.norm(B, ord=1)\n",
    "print(\"L1 de B\",L1_B)'''"
   ]
  }
 ],
 "metadata": {
  "kernelspec": {
   "display_name": ".venv",
   "language": "python",
   "name": "python3"
  },
  "language_info": {
   "codemirror_mode": {
    "name": "ipython",
    "version": 3
   },
   "file_extension": ".py",
   "mimetype": "text/x-python",
   "name": "python",
   "nbconvert_exporter": "python",
   "pygments_lexer": "ipython3",
   "version": "3.10.0"
  }
 },
 "nbformat": 4,
 "nbformat_minor": 2
}
