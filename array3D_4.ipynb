{
 "cells": [
  {
   "cell_type": "markdown",
   "metadata": {},
   "source": [
    "En este ejercicio, simularemos una imagen representada como un **array 3D** en NumPy. En procesamiento de imágenes, un array 3D suele representar una imagen con dimensiones `(altura, anchura, canales)`, donde los **canales** pueden ser **rojo (R), verde (G) y azul (B)** en imágenes a color.\n",
    "\n",
    "### Tareas:\n",
    "\n",
    "1. **Creación del array 3D**\n",
    "    - Genera un array 3D de tamaño **4x4x3** con valores aleatorios entre **0 y 255** para simular una imagen en formato RGB.\n",
    "    - Usa `np.random.randint()` para generar valores enteros.\n",
    "2. **Indexación en el array 3D**\n",
    "    - Extrae y muestra:\n",
    "        - El primer píxel (posición `[0,0]`) con sus valores de color **(R, G, B)**.\n",
    "        - El último píxel de la imagen (posición `[-1,-1]`).\n",
    "        - El valor del canal rojo del píxel en la segunda fila y tercera columna.\n",
    "3. **Slicing en el array 3D**\n",
    "    - Extrae y muestra:\n",
    "        - Toda la primera fila de la imagen (es decir, todos los píxeles de la primera fila con sus valores RGB).\n",
    "        - Solo los valores del canal azul para todos los píxeles de la imagen.\n",
    "        - Un recorte central de la imagen, seleccionando las filas y columnas intermedias (por ejemplo, de la posición `[1:3, 1:3, :]`)."
   ]
  },
  {
   "cell_type": "code",
   "execution_count": 6,
   "metadata": {},
   "outputs": [
    {
     "name": "stdout",
     "output_type": "stream",
     "text": [
      "[[[206  29 103]\n",
      "  [ 20 100 206]\n",
      "  [ 64  43 193]\n",
      "  [124  84  84]]\n",
      "\n",
      " [[  7 236 147]\n",
      "  [173  80 190]\n",
      "  [223 156 112]\n",
      "  [194 203  25]]\n",
      "\n",
      " [[195 138 112]\n",
      "  [170  21 199]\n",
      "  [157  22 239]\n",
      "  [  4  11  28]]\n",
      "\n",
      " [[ 98 250  26]\n",
      "  [211 136 122]\n",
      "  [188  64 119]\n",
      "  [109 188 176]]] \n",
      "\n",
      "El primer pixel con sus valores R,G,B: \n",
      " [206  29 103]\n",
      "El ultimo pixel de la imagen: \n",
      " [109 188 176]\n",
      "El valor del canal rojo en el pixel de la seg fila y terc columna: \n",
      " 223\n",
      "La primera fila de la imagen: \n",
      " [[206  29 103]\n",
      " [ 20 100 206]\n",
      " [ 64  43 193]\n",
      " [124  84  84]]\n",
      "Los valores del canal azul para todos los pixeles de la imagen: \n",
      " [[103 206 193  84]\n",
      " [147 190 112  25]\n",
      " [112 199 239  28]\n",
      " [ 26 122 119 176]]\n",
      "Las filas y columnas intermedias de la imagen: \n",
      " [[[173  80 190]\n",
      "  [223 156 112]]\n",
      "\n",
      " [[170  21 199]\n",
      "  [157  22 239]]]\n"
     ]
    }
   ],
   "source": [
    "import numpy as np\n",
    "import random\n",
    "\n",
    "imagen = np.random.randint(0, 256, (4, 4, 3))\n",
    "print(imagen,\"\\n\")\n",
    "\n",
    "print(\"El primer pixel con sus valores R,G,B: \\n\",imagen[0, 0])\n",
    "print(\"El ultimo pixel de la imagen: \\n\",imagen[-1, -1])\n",
    "print(\"El valor del canal rojo en el pixel de la seg fila y terc columna: \\n\",imagen[1,2,0])\n",
    "\n",
    "\n",
    "print(\"La primera fila de la imagen: \\n\",imagen[0])\n",
    "print(\"Los valores del canal azul para todos los pixeles de la imagen: \\n\" , imagen[:,:,2])\n",
    "print(\"Las filas y columnas intermedias de la imagen: \\n\",imagen[1:3, 1:3, :])"
   ]
  }
 ],
 "metadata": {
  "kernelspec": {
   "display_name": ".venv",
   "language": "python",
   "name": "python3"
  },
  "language_info": {
   "codemirror_mode": {
    "name": "ipython",
    "version": 3
   },
   "file_extension": ".py",
   "mimetype": "text/x-python",
   "name": "python",
   "nbconvert_exporter": "python",
   "pygments_lexer": "ipython3",
   "version": "3.10.0"
  }
 },
 "nbformat": 4,
 "nbformat_minor": 2
}
