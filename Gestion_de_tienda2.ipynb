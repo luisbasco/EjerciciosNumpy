{
 "cells": [
  {
   "cell_type": "code",
   "execution_count": 2,
   "metadata": {},
   "outputs": [
    {
     "name": "stdout",
     "output_type": "stream",
     "text": [
      "['Smartphone' 'Tablet' 'Laptop' 'Auriculares' 'Teclado']\n",
      "[['Smartphone' '50']\n",
      " ['Tablet' '30']\n",
      " ['Laptop' '15']\n",
      " ['Auriculares' '40']\n",
      " ['Teclado' '60']]\n",
      "Estas son las ventas: \n",
      " [[[5 3 2 6 4]\n",
      "  [7 4 1 8 5]\n",
      "  [6 2 3 5 4]]]\n",
      "Estos son los productos no vendidos: \n",
      " [[0. 0. 0. 0. 0.]]\n",
      "Articulos en promocion: \n",
      " [[1. 0. 0. 0. 1.]]\n",
      "[  50  100  150  200  250  300  350  400  450  500  550  600  650  700\n",
      "  750  800  850  900  950 1000]\n",
      "[117 468 113 392 438]\n",
      "[ 5  4  2 10  2]\n",
      "[[1.]\n",
      " [0.]\n",
      " [0.]\n",
      " [0.]\n",
      " [1.]]\n"
     ]
    },
    {
     "data": {
      "text/plain": [
       "'ventas_totales = np.linspace(0, 1000, 5)\\nprint(ventas_totales)'"
      ]
     },
     "execution_count": 2,
     "metadata": {},
     "output_type": "execute_result"
    }
   ],
   "source": [
    "'''**Objetivo:** Utilizar arrays en `NumPy` para gestionar y analizar un sistema de inventario de una tienda. Practicarás la creación de arrays de diferentes dimensiones y tipos, y manipularás datos relacionados con los productos de una tienda.\n",
    "\n",
    "**Escenario:** Imagina que eres el encargado de gestionar el inventario de una tienda de electrónica. La tienda tiene diferentes productos, y necesitas hacer un seguimiento de las cantidades disponibles, los precios y las categorías de productos. Utilizarás `NumPy` para organizar esta información.\n",
    "\n",
    "'''\n",
    "#Crear un array unidimensional con el nombre de los productos: Tienes una lista de 5 productos: \"Smartphone\", \"Tablet\", \"Laptop\", \"Auriculares\", \"Teclado\". Imprímelo.\n",
    "import numpy as np\n",
    "\n",
    "productos = np.array([\"Smartphone\", \"Tablet\", \"Laptop\", \"Auriculares\",\"Teclado\"])\n",
    "print(productos)\n",
    "\n",
    "#Crear un array bidimensional con la cantidad en stock de cada producto: La tienda tiene el siguiente stock de productos:\n",
    "stock = np.array([[\"Smartphone\", 50], \n",
    "                 [\"Tablet\", 30], \n",
    "                 [\"Laptop\", 15], \n",
    "                 [\"Auriculares\", 40],\n",
    "                 [\"Teclado\", 60]])\n",
    "print(stock)\n",
    "\n",
    "#Crear un array tridimensional para registrar las ventas de cada producto durante una semana: Imagina que tienes un registro de ventas para cada uno de los 5 productos durante 3 días de la semana. Cada capa del array representará un día de ventas y las columnas serán las cantidades vendidas para cada producto:Día 1: [5, 3, 2, 6, 4]\n",
    "#Día 2: [7, 4, 1, 8, 5]\n",
    "#Día 3: [6, 2, 3, 5, 4]\n",
    "\n",
    "ventas = np.array([[[5, 3, 2, 6, 4],\n",
    "                    [7, 4, 1, 8, 5],\n",
    "                    [6, 2, 3, 5, 4]]])\n",
    "print(\"Estas son las ventas: \\n\",ventas)\n",
    "\n",
    "#Crear un array de ceros para los productos no vendidos hoy: Los productos que no se han vendido hoy deben estar en cero. Crea un array de ceros para representar la cantidad de productos no vendidos de la tienda hoy. Imprime el array.\n",
    "no_vendidos = np.zeros((1, 5))\n",
    "print(\"Estos son los productos no vendidos: \\n\",no_vendidos)\n",
    "\n",
    "\n",
    "#Crear un array de unos para los productos que están en promoción: Los productos en promoción tienen un valor de 1, mientras que los que no están en promoción tienen 0. Crea un array de unos y ceros, donde los productos en promoción tienen el valor 1. Los productos en promoción son el \"Smartphone\" y el \"Teclado\". Imprímelo.\n",
    "promocion = np.ones((1,5))\n",
    "promocion[0,1:4] = 0\n",
    "print(\"Articulos en promocion: \\n\",promocion)\n",
    "\n",
    "#Crear un array con un rango de precios de productos: La tienda tiene productos cuyo precio varía entre 50 y 1000 unidades monetarias. Crea un array con los precios de los productos, usando la función np.arange, y un paso de 50 unidades. Imprímelo.\n",
    "precios = np.arange(50, 1001, 50)\n",
    "print(precios)\n",
    "\n",
    "#Crear un array de precios aleatorios: Crea un array con precios aleatorios para los productos entre 100 y 500 unidades monetarias, de tamaño 5. Imprímelo.\n",
    "import random\n",
    "precios_aleatorios = np.random.randint(100, 500, 5)\n",
    "print(precios_aleatorios)\n",
    "\n",
    "#Generar un array de números enteros aleatorios para la cantidad vendida: Utiliza np.random.randint para crear un array de 5 elementos, con valores aleatorios entre 1 y 10, que representen las unidades vendidas de cada producto hoy. Imprímelo.\n",
    "cantidad_vendida = np.random.randint(1, 11, 5)\n",
    "print(cantidad_vendida)\n",
    "\n",
    "\n",
    "#Crear un array vacío para almacenar los valores de descuento: Crea un array vacío de tamaño 5x1 para almacenar los descuentos que se aplicarán a cada producto. Imprímelo.\n",
    "descuentos = np.empty((5,1))\n",
    "print(descuentos)\n",
    "\n",
    "#Generar un array con valores espaciados para analizar el cambio en las ventas: Imagina que deseas analizar cómo cambian las ventas en diferentes intervalos de tiempo (por ejemplo, cada 2 horas). Utiliza np.linspacepara generar un array con 5 puntos de venta, distribuidos entre 0 y 1000 unidades, representando las ventas totales del día. Imprímelo.\n",
    "\n",
    "'''ventas_totales = np.linspace(0, 1000, 5)\n",
    "print(ventas_totales)'''\n"
   ]
  }
 ],
 "metadata": {
  "kernelspec": {
   "display_name": ".venv",
   "language": "python",
   "name": "python3"
  },
  "language_info": {
   "codemirror_mode": {
    "name": "ipython",
    "version": 3
   },
   "file_extension": ".py",
   "mimetype": "text/x-python",
   "name": "python",
   "nbconvert_exporter": "python",
   "pygments_lexer": "ipython3",
   "version": "3.10.0"
  }
 },
 "nbformat": 4,
 "nbformat_minor": 4
}
